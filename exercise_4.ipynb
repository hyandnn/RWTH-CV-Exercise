{
 "cells": [
  {
   "cell_type": "markdown",
   "metadata": {
    "deletable": false,
    "editable": false,
    "nbgrader": {
     "cell_type": "markdown",
     "checksum": "ca24cfb2936da59132039cb1a7e6a9da",
     "grade": false,
     "grade_id": "cell-d9dbc74c08a75dc1",
     "locked": true,
     "schema_version": 3,
     "solution": false,
     "task": false
    }
   },
   "source": [
    "**Important**:\n",
    "Follow the instructions below when submitting your attempt.\n",
    "Submissions not following these instructions will not be graded.\n",
    "\n",
    "1. **Use JupyterLab**. Other notebook-editing software (e.g. VSCode, pycharm) might corrupt the notebook files.\n",
    "3. **Do not remove, modify or duplicate** any given cells, except those in which you need to fill in your implementation. You can add new cells in order to present additional texts or plots.\n",
    "4. **Restart the kernel and re-run the whole notebook** once before submission. After this step, the cell id should be incremental from top to bottom, and all plots should be displayed.\n",
    "5. **Submit only the `.ipynb` files**, do not upload archives (zip, rar, tar, etc.), images or datasets.\n",
    "6. **Do not change the filenames** of the `.ipynb` files."
   ]
  },
  {
   "cell_type": "markdown",
   "metadata": {
    "deletable": false,
    "editable": false,
    "nbgrader": {
     "cell_type": "markdown",
     "checksum": "be5819e538b230ddf5f888fc4481212b",
     "grade": false,
     "grade_id": "cell-67e1fcdd86afffc8",
     "locked": true,
     "schema_version": 3,
     "solution": false,
     "task": false
    }
   },
   "source": [
    "# Vision Models\n",
    "\n",
    "Building on top of the previous exercise, we will now implement more sophisticated models for image classification, namely a ResNet and a Vision Transformer.\n",
    "Augmented training data and a function for training is provided, so we can focus on building these models."
   ]
  },
  {
   "cell_type": "code",
   "execution_count": 1,
   "metadata": {
    "deletable": false,
    "editable": false,
    "nbgrader": {
     "cell_type": "code",
     "checksum": "a5e7586ab7ee5df80098dce85973a26c",
     "grade": false,
     "grade_id": "cell-321ba003b1b79c95",
     "locked": true,
     "schema_version": 3,
     "solution": false,
     "task": false
    }
   },
   "outputs": [],
   "source": [
    "LOG_ROOT = 'tensorboard_logs'\n",
    "USE_GPU = False  # Set to True if you have installed tensorflow for GPU"
   ]
  },
  {
   "cell_type": "code",
   "execution_count": 2,
   "metadata": {},
   "outputs": [],
   "source": [
    "USE_GPU = True  # Set to True if you have installed tensorflow for GPU"
   ]
  },
  {
   "cell_type": "code",
   "execution_count": 3,
   "metadata": {
    "deletable": false,
    "editable": false,
    "nbgrader": {
     "cell_type": "code",
     "checksum": "55ab6d56a1d5caefbec869dc6240092d",
     "grade": false,
     "grade_id": "cell-1073cd4f1b08084c",
     "locked": true,
     "schema_version": 3,
     "solution": false,
     "task": false
    }
   },
   "outputs": [],
   "source": [
    "import time\n",
    "import datetime\n",
    "import numpy as np\n",
    "import matplotlib.pyplot as plt\n",
    "import torch\n",
    "import torch.nn as nn\n",
    "import torch.nn.functional as F\n",
    "import torch.optim as optim\n",
    "from torchvision.datasets import CIFAR10\n",
    "from torch.utils.data import DataLoader\n",
    "import torchvision.transforms as transforms\n",
    "from torch.utils.tensorboard import SummaryWriter\n",
    "from torchvision.utils import make_grid\n",
    "\n",
    "# Just an image plotting function\n",
    "def plot_multiple(images, titles=None, colormap='gray',\n",
    "                  max_columns=np.inf, imwidth=2, imheight=2, share_axes=False):\n",
    "    \"\"\"\n",
    "    Plot multiple images as subplots on a grid. Images must be channel-first\n",
    "    and between [0, 1].\n",
    "    \"\"\"\n",
    "    images = [np.transpose(im, (1, 2, 0)) for im in images]\n",
    "    if titles is None:\n",
    "        titles = [''] * len(images)\n",
    "    assert len(images) == len(titles)\n",
    "    n_images = len(images)\n",
    "    n_cols = min(max_columns, n_images)\n",
    "    n_rows = int(np.ceil(n_images / n_cols))\n",
    "    fig, axes = plt.subplots(\n",
    "        n_rows, n_cols, figsize=(n_cols * imwidth, n_rows * imheight),\n",
    "        squeeze=False, sharex=share_axes, sharey=share_axes)\n",
    "\n",
    "    axes = axes.flat\n",
    "    # Hide subplots without content\n",
    "    for ax in axes[n_images:]:\n",
    "        ax.axis('off')\n",
    "        \n",
    "    if not isinstance(colormap, (list,tuple)):\n",
    "        colormaps = [colormap]*n_images\n",
    "    else:\n",
    "        colormaps = colormap\n",
    "\n",
    "    for ax, image, title, cmap in zip(axes, images, titles, colormaps):\n",
    "        ax.imshow(image, cmap=cmap)\n",
    "        ax.set_title(title)\n",
    "        ax.get_xaxis().set_visible(False)\n",
    "        ax.get_yaxis().set_visible(False)\n",
    "        \n",
    "    fig.tight_layout()\n",
    "    \n",
    "def visualize_dataset(dataset, n_samples=24, max_columns=6):\n",
    "    xs, ys = list(zip(*[dataset[i] for i in range(n_samples)]))\n",
    "    plot_multiple([x / 2 + 0.5 for x in xs], [labels[i] for i in ys], max_columns=max_columns)\n",
    "\n",
    "def train_model(\n",
    "    model,\n",
    "    criterion,\n",
    "    opt,\n",
    "    logdir,\n",
    "    train_loader,\n",
    "    test_loader,\n",
    "    n_epochs=50,\n",
    "    lr_scheduler=None,\n",
    "):\n",
    "    # stuff for writing to tensorboard\n",
    "    writer = SummaryWriter(f\"{LOG_ROOT}/{logdir}-{time.strftime('%y%m%d_%H%M%S')}\")\n",
    "    layout = {\n",
    "        'Losses': {'losses': ['Multiline', ['loss/train', 'loss/test']]},\n",
    "        'Accuracy': {'accuracy': ['Multiline', ['accuracy/train', 'accuracy/test']]}\n",
    "    }\n",
    "    writer.add_custom_scalars(layout)\n",
    "    \n",
    "    start = time.time()  # get current time for statistics\n",
    "    for epoch in range(n_epochs):  # iterate over epochs\n",
    "        model.train()  # set the model to training mode\n",
    "        # collect some numbers for statistics\n",
    "        sample_count = 0  # number of seen samples\n",
    "        loss_sum = 0  # total loss\n",
    "        correct_count = 0  # total number of correctly classified samples\n",
    "        n_batches = len(train_loader)  # number of batches\n",
    "        for i, (xs, ys) in enumerate(train_loader):  # iterate over training set\n",
    "            # training step\n",
    "            if USE_GPU:\n",
    "                xs = xs.cuda()\n",
    "                ys = ys.cuda()\n",
    "            out = model(xs)\n",
    "            loss = criterion(out, ys)\n",
    "            loss.backward()\n",
    "            opt.step()\n",
    "            opt.zero_grad()\n",
    "\n",
    "            # update statistics\n",
    "            loss_sum += loss.item() * xs.shape[0]\n",
    "            _, pred = torch.max(out, 1)\n",
    "            correct_count += (pred == ys).sum().item()\n",
    "            sample_count += xs.shape[0]\n",
    "            print(f'Train epoch {epoch+1}, step {i+1}/{n_batches}', end='    \\r')\n",
    "\n",
    "        if lr_scheduler is not None:\n",
    "            lr_scheduler.step()\n",
    "\n",
    "        train_loss = loss_sum / sample_count\n",
    "        train_accuracy = correct_count / sample_count\n",
    "        \n",
    "        with torch.no_grad():  # do not store gradients during testing, decreases memory consumption\n",
    "            model.eval()  # set the model to evaluation mode\n",
    "            sample_count = 0\n",
    "            loss_sum = 0\n",
    "            correct_count = 0\n",
    "            n_batches = len(test_loader)\n",
    "            for i, (xs, ys) in enumerate(test_loader):\n",
    "                if USE_GPU:\n",
    "                    xs = xs.cuda()\n",
    "                    ys = ys.cuda()\n",
    "                out = model(xs)\n",
    "                loss = criterion(out, ys)\n",
    "                loss_sum += loss.item() * xs.shape[0]\n",
    "                _, pred = torch.max(out, 1)\n",
    "                correct_count += (pred == ys).sum().item()\n",
    "                sample_count += xs.shape[0]\n",
    "                print(f'Test epoch {epoch+1}, step {i+1}/{n_batches}', end='    \\r')\n",
    "                \n",
    "            test_loss = loss_sum / sample_count\n",
    "            test_accuracy = correct_count / sample_count\n",
    "        \n",
    "        writer.add_scalar('loss/train', train_loss, epoch+1)\n",
    "        writer.add_scalar('accuracy/train', train_accuracy, epoch+1)\n",
    "        writer.add_scalar('loss/test', test_loss, epoch+1)\n",
    "        writer.add_scalar('accuracy/test', test_accuracy, epoch+1)\n",
    "            \n",
    "        print(\n",
    "            f'Epoch {epoch+1} | train loss: {train_loss:.3f}, train accuracy: {train_accuracy:.3f}, ' + \\\n",
    "            f'test loss: {test_loss:.3f}, test accuracy: {test_accuracy:.3f}, ' + \\\n",
    "            f'time: {str(datetime.timedelta(seconds=int(time.time()-start)))}'\n",
    "        )"
   ]
  },
  {
   "cell_type": "code",
   "execution_count": 4,
   "metadata": {
    "deletable": false,
    "editable": false,
    "nbgrader": {
     "cell_type": "code",
     "checksum": "7f3c0d5326fb908b1378416f92459cbe",
     "grade": false,
     "grade_id": "cell-31d81f8c56fa930d",
     "locked": true,
     "schema_version": 3,
     "solution": false,
     "task": false
    }
   },
   "outputs": [
    {
     "name": "stdout",
     "output_type": "stream",
     "text": [
      "Files already downloaded and verified\n",
      "Files already downloaded and verified\n"
     ]
    }
   ],
   "source": [
    "normalize_transform = transforms.Compose([\n",
    "    transforms.ToTensor(),\n",
    "    transforms.Normalize(0.5, 0.5)\n",
    "])\n",
    "\n",
    "augment_transform = transforms.Compose([\n",
    "    transforms.RandomAffine(degrees=0, translate=(0.1, 0.1), scale=(0.9, 1.1)),\n",
    "    transforms.RandomHorizontalFlip()\n",
    "])\n",
    "\n",
    "train_data = CIFAR10(root='cifar10/train/', train=True, download=True, transform=transforms.Compose([augment_transform, normalize_transform]))\n",
    "test_data = CIFAR10(root='cifar10/test/', train=False, download=True, transform=normalize_transform)\n",
    "labels = ['airplane', 'automobile', 'bird', 'cat', 'deer', 'dog', 'frog', 'horse', 'ship', 'truck']\n",
    "train_loader = DataLoader(train_data, batch_size=128, shuffle=True, num_workers=6)\n",
    "test_loader = DataLoader(test_data, batch_size=128, num_workers=6)"
   ]
  },
  {
   "cell_type": "markdown",
   "metadata": {
    "deletable": false,
    "editable": false,
    "nbgrader": {
     "cell_type": "markdown",
     "checksum": "8caae469ea7013cff26fa649c7d24662",
     "grade": false,
     "grade_id": "cell-87f2ee7421f4b385",
     "locked": true,
     "schema_version": 3,
     "solution": false,
     "task": false
    }
   },
   "source": [
    "## The Simple CNN\n",
    "\n",
    "As a starting point we use the CNN you already know from the previous exercise."
   ]
  },
  {
   "cell_type": "code",
   "execution_count": 5,
   "metadata": {
    "deletable": false,
    "editable": false,
    "nbgrader": {
     "cell_type": "code",
     "checksum": "f2f2e18af80a0d6ba370410219229ebd",
     "grade": false,
     "grade_id": "cell-71ed3ce0361a6f09",
     "locked": true,
     "schema_version": 3,
     "solution": false,
     "task": false
    }
   },
   "outputs": [
    {
     "name": "stdout",
     "output_type": "stream",
     "text": [
      "Epoch 1 | train loss: 1.615, train accuracy: 0.422, test loss: 1.326, test accuracy: 0.533, time: 0:01:04\n",
      "Epoch 2 | train loss: 1.335, train accuracy: 0.526, test loss: 1.162, test accuracy: 0.589, time: 0:02:13\n",
      "Epoch 3 | train loss: 1.221, train accuracy: 0.570, test loss: 1.059, test accuracy: 0.635, time: 0:03:20\n",
      "Epoch 4 | train loss: 1.135, train accuracy: 0.602, test loss: 0.993, test accuracy: 0.655, time: 0:04:32\n",
      "Epoch 5 | train loss: 1.076, train accuracy: 0.623, test loss: 0.946, test accuracy: 0.672, time: 0:05:41\n",
      "Epoch 6 | train loss: 1.034, train accuracy: 0.641, test loss: 0.928, test accuracy: 0.682, time: 0:06:57\n",
      "Epoch 7 | train loss: 1.002, train accuracy: 0.651, test loss: 0.912, test accuracy: 0.687, time: 0:08:09\n",
      "Epoch 8 | train loss: 0.972, train accuracy: 0.662, test loss: 0.872, test accuracy: 0.705, time: 0:09:18\n",
      "Epoch 9 | train loss: 0.948, train accuracy: 0.673, test loss: 0.848, test accuracy: 0.709, time: 0:10:26\n",
      "Epoch 10 | train loss: 0.927, train accuracy: 0.680, test loss: 0.848, test accuracy: 0.716, time: 0:11:34\n",
      "Epoch 11 | train loss: 0.903, train accuracy: 0.686, test loss: 0.849, test accuracy: 0.710, time: 0:12:50\n",
      "Epoch 12 | train loss: 0.889, train accuracy: 0.693, test loss: 0.798, test accuracy: 0.726, time: 0:14:12\n",
      "Epoch 13 | train loss: 0.873, train accuracy: 0.697, test loss: 0.788, test accuracy: 0.733, time: 0:15:33\n",
      "Epoch 14 | train loss: 0.856, train accuracy: 0.704, test loss: 0.789, test accuracy: 0.730, time: 0:16:52\n",
      "Epoch 15 | train loss: 0.847, train accuracy: 0.709, test loss: 0.771, test accuracy: 0.737, time: 0:18:21\n",
      "Epoch 16 | train loss: 0.839, train accuracy: 0.712, test loss: 0.768, test accuracy: 0.739, time: 0:19:44\n",
      "Epoch 17 | train loss: 0.827, train accuracy: 0.718, test loss: 0.787, test accuracy: 0.734, time: 0:21:05\n",
      "Epoch 18 | train loss: 0.813, train accuracy: 0.720, test loss: 0.757, test accuracy: 0.740, time: 0:22:25\n",
      "Epoch 19 | train loss: 0.804, train accuracy: 0.725, test loss: 0.749, test accuracy: 0.742, time: 0:23:32\n",
      "Epoch 20 | train loss: 0.796, train accuracy: 0.726, test loss: 0.741, test accuracy: 0.749, time: 0:24:40\n",
      "Epoch 21 | train loss: 0.793, train accuracy: 0.730, test loss: 0.745, test accuracy: 0.746, time: 0:25:48\n",
      "Epoch 22 | train loss: 0.787, train accuracy: 0.729, test loss: 0.743, test accuracy: 0.748, time: 0:27:02\n",
      "Epoch 23 | train loss: 0.777, train accuracy: 0.733, test loss: 0.732, test accuracy: 0.749, time: 0:28:23\n",
      "Epoch 24 | train loss: 0.770, train accuracy: 0.735, test loss: 0.751, test accuracy: 0.742, time: 0:29:44\n",
      "Epoch 25 | train loss: 0.765, train accuracy: 0.738, test loss: 0.730, test accuracy: 0.750, time: 0:31:05\n",
      "Epoch 26 | train loss: 0.759, train accuracy: 0.741, test loss: 0.737, test accuracy: 0.750, time: 0:32:15\n",
      "Epoch 27 | train loss: 0.751, train accuracy: 0.743, test loss: 0.702, test accuracy: 0.759, time: 0:33:23\n",
      "Epoch 28 | train loss: 0.748, train accuracy: 0.741, test loss: 0.705, test accuracy: 0.761, time: 0:34:31\n",
      "Epoch 29 | train loss: 0.738, train accuracy: 0.745, test loss: 0.703, test accuracy: 0.763, time: 0:35:39\n",
      "Epoch 30 | train loss: 0.734, train accuracy: 0.749, test loss: 0.694, test accuracy: 0.767, time: 0:36:57\n",
      "Epoch 31 | train loss: 0.728, train accuracy: 0.748, test loss: 0.704, test accuracy: 0.760, time: 0:38:18\n",
      "Epoch 32 | train loss: 0.727, train accuracy: 0.751, test loss: 0.708, test accuracy: 0.760, time: 0:39:40\n",
      "Epoch 33 | train loss: 0.723, train accuracy: 0.752, test loss: 0.699, test accuracy: 0.762, time: 0:41:01\n",
      "Epoch 34 | train loss: 0.721, train accuracy: 0.751, test loss: 0.685, test accuracy: 0.772, time: 0:42:23\n",
      "Epoch 35 | train loss: 0.712, train accuracy: 0.755, test loss: 0.672, test accuracy: 0.773, time: 0:43:44\n",
      "Epoch 36 | train loss: 0.710, train accuracy: 0.757, test loss: 0.705, test accuracy: 0.763, time: 0:45:05\n",
      "Epoch 37 | train loss: 0.706, train accuracy: 0.757, test loss: 0.676, test accuracy: 0.776, time: 0:46:26\n",
      "Epoch 38 | train loss: 0.701, train accuracy: 0.760, test loss: 0.685, test accuracy: 0.770, time: 0:47:46\n",
      "Epoch 39 | train loss: 0.696, train accuracy: 0.763, test loss: 0.661, test accuracy: 0.778, time: 0:49:08\n",
      "Epoch 40 | train loss: 0.691, train accuracy: 0.761, test loss: 0.664, test accuracy: 0.777, time: 0:50:28\n",
      "Epoch 41 | train loss: 0.686, train accuracy: 0.763, test loss: 0.655, test accuracy: 0.780, time: 0:51:50\n",
      "Epoch 42 | train loss: 0.686, train accuracy: 0.764, test loss: 0.675, test accuracy: 0.773, time: 0:53:11\n",
      "Epoch 43 | train loss: 0.682, train accuracy: 0.768, test loss: 0.661, test accuracy: 0.773, time: 0:54:32\n",
      "Epoch 44 | train loss: 0.679, train accuracy: 0.766, test loss: 0.659, test accuracy: 0.776, time: 0:55:54\n",
      "Epoch 45 | train loss: 0.675, train accuracy: 0.769, test loss: 0.660, test accuracy: 0.776, time: 0:57:14\n",
      "Epoch 46 | train loss: 0.675, train accuracy: 0.767, test loss: 0.662, test accuracy: 0.778, time: 0:58:36\n",
      "Epoch 47 | train loss: 0.664, train accuracy: 0.770, test loss: 0.653, test accuracy: 0.780, time: 0:59:58\n",
      "Epoch 48 | train loss: 0.662, train accuracy: 0.771, test loss: 0.668, test accuracy: 0.775, time: 1:01:19\n",
      "Epoch 49 | train loss: 0.664, train accuracy: 0.772, test loss: 0.656, test accuracy: 0.781, time: 1:02:41\n",
      "Epoch 50 | train loss: 0.661, train accuracy: 0.772, test loss: 0.642, test accuracy: 0.785, time: 1:04:03\n"
     ]
    }
   ],
   "source": [
    "cnn = nn.Sequential(\n",
    "    nn.Conv2d(in_channels=3, out_channels=64, kernel_size=3, padding=1),\n",
    "    nn.ReLU(),\n",
    "    nn.MaxPool2d(kernel_size=2, stride=2),\n",
    "    nn.Conv2d(in_channels=64, out_channels=64, kernel_size=3, padding=1),\n",
    "    nn.ReLU(),\n",
    "    nn.MaxPool2d(kernel_size=2, stride=2),\n",
    "    nn.Flatten(),\n",
    "    nn.Linear(in_features=4096, out_features=10)\n",
    ")\n",
    "if USE_GPU:\n",
    "    cnn.cuda()\n",
    "\n",
    "train_model(\n",
    "    model=cnn,\n",
    "    criterion=nn.CrossEntropyLoss(),\n",
    "    opt=optim.Adam(cnn.parameters(), lr=5e-4),\n",
    "    logdir='cnn',\n",
    "    train_loader=train_loader,\n",
    "    test_loader=test_loader\n",
    ")"
   ]
  },
  {
   "cell_type": "markdown",
   "metadata": {
    "deletable": false,
    "editable": false,
    "nbgrader": {
     "cell_type": "markdown",
     "checksum": "b4241ec86a3be34fad9c89a527182780",
     "grade": false,
     "grade_id": "cell-959a911a2a175121",
     "locked": true,
     "schema_version": 3,
     "solution": false,
     "task": false
    }
   },
   "source": [
    "## Batch Normalization\n",
    "\n",
    "Batch normalization is a technique to improve and speed up the training of deep neural networks. Each feature channel is normalized to have zero mean and unit variance across the spatial and mini-batch axes. To compensate for the lost degrees of freedom, extra scaling and bias parameters are introduced and learned. Mathematically, BatchNorm for a spatial feature map (e.g. the output of conv) can be written as:\n",
    "\n",
    "$$\n",
    "\\mu_d = \\mathbb{E}\\{x_{\\cdot \\cdot d}\\}, \\\\\n",
    "\\sigma_d = \\sqrt{\\operatorname{Var}\\{x_{\\cdot \\cdot d}\\}} \\\\\n",
    "z_{ijd} = \\gamma_d \\cdot \\frac{x_{ijd} - \\mu_d}{\\sigma_d} + \\beta_d,\\\\\n",
    "$$\n",
    "\n",
    "with the expectation and variance taken across both the data samples of the batch and the spatial dimensions.\n",
    "\n",
    "The $\\mu_d$ and $\\sigma_d$ values are computed on the actual mini-batch during training, but at test-time they are fixed, so that the prediction of the final system on a given sample does not depend on other samples in the mini-batch. To obtain the fixed values for test-time use, one needs to maintain moving statistics over the activations during training. This can be a bit tricky to implement from scratch, but luckily this is now implemented in all popular frameworks, including PyTorch.\n",
    "\n",
    "When applying BatchNorm, it is not necessary to use biases in the previous convolutional layer. Why?"
   ]
  },
  {
   "cell_type": "markdown",
   "metadata": {
    "deletable": false,
    "nbgrader": {
     "cell_type": "markdown",
     "checksum": "7f1772ceb21ca3d08ab31a044983550e",
     "grade": true,
     "grade_id": "cell-0178a85974e9358e",
     "locked": false,
     "points": 1,
     "schema_version": 3,
     "solution": true,
     "task": false
    }
   },
   "source": [
    "*POINTS: 1*\n",
    "\n",
    "YOUR ANSWER HERE"
   ]
  },
  {
   "cell_type": "markdown",
   "metadata": {
    "deletable": false,
    "editable": false,
    "nbgrader": {
     "cell_type": "markdown",
     "checksum": "c42e515e3a912d8315bb91c79597216e",
     "grade": false,
     "grade_id": "cell-1a1a3ac922ed7e52",
     "locked": true,
     "schema_version": 3,
     "solution": false,
     "task": false
    }
   },
   "source": [
    "Create a modified version of the previous model using batch normalization between each convolution and the corresponding activation. Use the `bias` argument of `nn.Conv2d` according to the above finding."
   ]
  },
  {
   "cell_type": "code",
   "execution_count": 6,
   "metadata": {
    "deletable": false,
    "nbgrader": {
     "cell_type": "code",
     "checksum": "690f6b764872cff92a8ccb1ef727d884",
     "grade": true,
     "grade_id": "cell-83b754b10f9a5f09",
     "locked": false,
     "points": 3,
     "schema_version": 3,
     "solution": true
    }
   },
   "outputs": [
    {
     "name": "stdout",
     "output_type": "stream",
     "text": [
      "Epoch 1 | train loss: 1.386, train accuracy: 0.497, test loss: 1.028, test accuracy: 0.636, time: 0:01:40\n",
      "Epoch 2 | train loss: 0.970, train accuracy: 0.658, test loss: 0.951, test accuracy: 0.669, time: 0:03:19\n",
      "Epoch 3 | train loss: 0.843, train accuracy: 0.702, test loss: 0.787, test accuracy: 0.719, time: 0:04:56\n",
      "Epoch 4 | train loss: 0.764, train accuracy: 0.730, test loss: 0.678, test accuracy: 0.759, time: 0:06:34\n",
      "Epoch 5 | train loss: 0.697, train accuracy: 0.755, test loss: 0.722, test accuracy: 0.749, time: 0:08:12\n",
      "Epoch 6 | train loss: 0.652, train accuracy: 0.770, test loss: 0.644, test accuracy: 0.777, time: 0:09:51\n",
      "Epoch 7 | train loss: 0.621, train accuracy: 0.783, test loss: 0.653, test accuracy: 0.773, time: 0:11:31\n",
      "Epoch 8 | train loss: 0.594, train accuracy: 0.791, test loss: 0.599, test accuracy: 0.792, time: 0:13:09\n",
      "Epoch 9 | train loss: 0.557, train accuracy: 0.805, test loss: 0.593, test accuracy: 0.794, time: 0:14:46\n",
      "Epoch 10 | train loss: 0.538, train accuracy: 0.811, test loss: 0.517, test accuracy: 0.825, time: 0:16:17\n",
      "Epoch 11 | train loss: 0.514, train accuracy: 0.821, test loss: 0.556, test accuracy: 0.806, time: 0:17:41\n",
      "Epoch 12 | train loss: 0.501, train accuracy: 0.825, test loss: 0.631, test accuracy: 0.785, time: 0:19:05\n",
      "Epoch 13 | train loss: 0.482, train accuracy: 0.830, test loss: 0.522, test accuracy: 0.822, time: 0:20:29\n",
      "Epoch 14 | train loss: 0.461, train accuracy: 0.837, test loss: 0.544, test accuracy: 0.816, time: 0:21:52\n",
      "Epoch 15 | train loss: 0.450, train accuracy: 0.841, test loss: 0.532, test accuracy: 0.819, time: 0:23:15\n",
      "Epoch 16 | train loss: 0.435, train accuracy: 0.848, test loss: 0.545, test accuracy: 0.820, time: 0:24:39\n",
      "Epoch 17 | train loss: 0.422, train accuracy: 0.851, test loss: 0.623, test accuracy: 0.799, time: 0:26:03\n",
      "Epoch 18 | train loss: 0.409, train accuracy: 0.855, test loss: 0.506, test accuracy: 0.829, time: 0:27:27\n",
      "Epoch 19 | train loss: 0.398, train accuracy: 0.861, test loss: 0.467, test accuracy: 0.839, time: 0:28:50\n",
      "Epoch 20 | train loss: 0.387, train accuracy: 0.864, test loss: 0.493, test accuracy: 0.835, time: 0:30:13\n",
      "Epoch 21 | train loss: 0.374, train accuracy: 0.869, test loss: 0.464, test accuracy: 0.844, time: 0:31:38\n",
      "Epoch 22 | train loss: 0.358, train accuracy: 0.873, test loss: 0.526, test accuracy: 0.830, time: 0:33:01\n",
      "Epoch 23 | train loss: 0.355, train accuracy: 0.875, test loss: 0.488, test accuracy: 0.837, time: 0:34:24\n",
      "Epoch 24 | train loss: 0.347, train accuracy: 0.878, test loss: 0.484, test accuracy: 0.841, time: 0:35:47\n",
      "Epoch 25 | train loss: 0.335, train accuracy: 0.882, test loss: 0.455, test accuracy: 0.848, time: 0:37:11\n",
      "Epoch 26 | train loss: 0.333, train accuracy: 0.882, test loss: 0.481, test accuracy: 0.841, time: 0:38:34\n",
      "Epoch 27 | train loss: 0.315, train accuracy: 0.889, test loss: 0.474, test accuracy: 0.847, time: 0:39:58\n",
      "Epoch 28 | train loss: 0.311, train accuracy: 0.890, test loss: 0.465, test accuracy: 0.849, time: 0:41:21\n",
      "Epoch 29 | train loss: 0.301, train accuracy: 0.894, test loss: 0.489, test accuracy: 0.842, time: 0:42:44\n",
      "Epoch 30 | train loss: 0.296, train accuracy: 0.895, test loss: 0.470, test accuracy: 0.848, time: 0:44:07\n",
      "Epoch 31 | train loss: 0.286, train accuracy: 0.899, test loss: 0.473, test accuracy: 0.850, time: 0:45:31\n",
      "Epoch 32 | train loss: 0.282, train accuracy: 0.900, test loss: 0.457, test accuracy: 0.852, time: 0:46:55\n",
      "Epoch 33 | train loss: 0.270, train accuracy: 0.903, test loss: 0.455, test accuracy: 0.848, time: 0:48:19\n",
      "Epoch 34 | train loss: 0.267, train accuracy: 0.906, test loss: 0.445, test accuracy: 0.855, time: 0:49:42\n",
      "Epoch 35 | train loss: 0.255, train accuracy: 0.910, test loss: 0.465, test accuracy: 0.854, time: 0:51:06\n",
      "Epoch 36 | train loss: 0.255, train accuracy: 0.910, test loss: 0.448, test accuracy: 0.856, time: 0:52:29\n",
      "Epoch 37 | train loss: 0.251, train accuracy: 0.912, test loss: 0.458, test accuracy: 0.857, time: 0:53:53\n",
      "Epoch 38 | train loss: 0.243, train accuracy: 0.915, test loss: 0.448, test accuracy: 0.855, time: 0:55:16\n",
      "Epoch 39 | train loss: 0.239, train accuracy: 0.915, test loss: 0.445, test accuracy: 0.862, time: 0:56:40\n",
      "Epoch 40 | train loss: 0.233, train accuracy: 0.917, test loss: 0.481, test accuracy: 0.850, time: 0:58:04\n",
      "Epoch 41 | train loss: 0.231, train accuracy: 0.918, test loss: 0.464, test accuracy: 0.856, time: 0:59:27\n",
      "Epoch 42 | train loss: 0.221, train accuracy: 0.922, test loss: 0.495, test accuracy: 0.855, time: 1:00:54\n",
      "Epoch 43 | train loss: 0.221, train accuracy: 0.922, test loss: 0.491, test accuracy: 0.851, time: 1:02:19\n",
      "Epoch 44 | train loss: 0.217, train accuracy: 0.921, test loss: 0.445, test accuracy: 0.866, time: 1:03:44\n",
      "Epoch 45 | train loss: 0.207, train accuracy: 0.927, test loss: 0.445, test accuracy: 0.866, time: 1:05:08\n",
      "Epoch 46 | train loss: 0.208, train accuracy: 0.925, test loss: 0.446, test accuracy: 0.865, time: 1:06:32\n",
      "Epoch 47 | train loss: 0.201, train accuracy: 0.928, test loss: 0.462, test accuracy: 0.864, time: 1:07:57\n",
      "Epoch 48 | train loss: 0.193, train accuracy: 0.931, test loss: 0.456, test accuracy: 0.865, time: 1:09:20\n",
      "Epoch 49 | train loss: 0.190, train accuracy: 0.932, test loss: 0.480, test accuracy: 0.857, time: 1:10:44\n",
      "Epoch 50 | train loss: 0.189, train accuracy: 0.932, test loss: 0.466, test accuracy: 0.863, time: 1:12:08\n"
     ]
    }
   ],
   "source": [
    "# POINTS: 3\n",
    "\n",
    "cnn_batchnorm = nn.Sequential(\n",
    "    # YOUR CODE HERE\n",
    "    # raise NotImplementedError()\n",
    "    nn.Conv2d(in_channels=3, out_channels=64, kernel_size=3, padding=1),\n",
    "    nn.BatchNorm2d(64),\n",
    "    nn.ReLU(),\n",
    "    nn.MaxPool2d(kernel_size=2, stride=2),\n",
    "    nn.Conv2d(in_channels=64, out_channels=128, kernel_size=3, padding=1),\n",
    "    nn.BatchNorm2d(128),\n",
    "    nn.ReLU(),\n",
    "    nn.MaxPool2d(kernel_size=2, stride=2),\n",
    "    nn.Conv2d(in_channels=128, out_channels=256, kernel_size=3, padding=1),\n",
    "    nn.BatchNorm2d(256),\n",
    "    nn.ReLU(),\n",
    "    nn.MaxPool2d(kernel_size=2, stride=2),\n",
    "    nn.Flatten(),\n",
    "    nn.Linear(in_features=256*4*4, out_features=512),  # Adjust based on input size and pooling\n",
    "    nn.ReLU(),\n",
    "    nn.Linear(in_features=512, out_features=10)\n",
    ")\n",
    "if USE_GPU:\n",
    "    cnn_batchnorm.cuda()\n",
    "\n",
    "train_model(\n",
    "    model=cnn_batchnorm,\n",
    "    criterion=nn.CrossEntropyLoss(),\n",
    "    opt=optim.Adam(cnn_batchnorm.parameters(), lr=5e-4),\n",
    "    logdir='cnn_batchnorm',\n",
    "    train_loader=train_loader,\n",
    "    test_loader=test_loader\n",
    ")"
   ]
  },
  {
   "cell_type": "markdown",
   "metadata": {
    "deletable": false,
    "editable": false,
    "nbgrader": {
     "cell_type": "markdown",
     "checksum": "a7ac28f2a6faced5ad48faa2f43224f6",
     "grade": false,
     "grade_id": "cell-57707594f666ee77",
     "locked": true,
     "schema_version": 3,
     "solution": false,
     "task": false
    }
   },
   "source": [
    "## Strided Convolutions\n",
    "\n",
    "Max-pooling is a popular technique for reducing the spatial dimensionality\n",
    "of the outputs from conv layers. Another way to reduce dimensionality is striding. For an argument why this may be similarly effective, see [Springenberg et al., ICLRW'15](https://arxiv.org/pdf/1412.6806.pdf).\n",
    "\n",
    "Now create a model using the same architecture as before, with the difference of\n",
    "removing the max-pooling layers and increasing the stride parameter of the conv layers to $2 \\times 2$ in the spatial dimensions. "
   ]
  },
  {
   "cell_type": "code",
   "execution_count": 7,
   "metadata": {
    "deletable": false,
    "nbgrader": {
     "cell_type": "code",
     "checksum": "671e529976d935a56918ea2030028bff",
     "grade": true,
     "grade_id": "cell-34f5d6a1166b46fa",
     "locked": false,
     "points": 2,
     "schema_version": 3,
     "solution": true
    }
   },
   "outputs": [
    {
     "name": "stdout",
     "output_type": "stream",
     "text": [
      "Epoch 1 | train loss: 1.637, train accuracy: 0.404, test loss: 1.339, test accuracy: 0.508, time: 0:01:04\n",
      "Epoch 2 | train loss: 1.328, train accuracy: 0.522, test loss: 1.181, test accuracy: 0.576, time: 0:02:08\n",
      "Epoch 3 | train loss: 1.189, train accuracy: 0.575, test loss: 1.069, test accuracy: 0.620, time: 0:03:12\n",
      "Epoch 4 | train loss: 1.082, train accuracy: 0.612, test loss: 0.995, test accuracy: 0.643, time: 0:04:17\n",
      "Epoch 5 | train loss: 1.003, train accuracy: 0.644, test loss: 0.957, test accuracy: 0.662, time: 0:05:22\n",
      "Epoch 6 | train loss: 0.936, train accuracy: 0.668, test loss: 0.890, test accuracy: 0.685, time: 0:06:26\n",
      "Epoch 7 | train loss: 0.879, train accuracy: 0.690, test loss: 0.837, test accuracy: 0.708, time: 0:07:31\n",
      "Epoch 8 | train loss: 0.838, train accuracy: 0.704, test loss: 0.793, test accuracy: 0.727, time: 0:08:35\n",
      "Epoch 9 | train loss: 0.791, train accuracy: 0.722, test loss: 0.773, test accuracy: 0.734, time: 0:09:39\n",
      "Epoch 10 | train loss: 0.748, train accuracy: 0.738, test loss: 0.763, test accuracy: 0.738, time: 0:10:43\n",
      "Epoch 11 | train loss: 0.716, train accuracy: 0.745, test loss: 0.748, test accuracy: 0.741, time: 0:11:47\n",
      "Epoch 12 | train loss: 0.682, train accuracy: 0.760, test loss: 0.711, test accuracy: 0.755, time: 0:12:51\n",
      "Epoch 13 | train loss: 0.655, train accuracy: 0.769, test loss: 0.695, test accuracy: 0.758, time: 0:13:54\n",
      "Epoch 14 | train loss: 0.630, train accuracy: 0.779, test loss: 0.696, test accuracy: 0.758, time: 0:14:58\n",
      "Epoch 15 | train loss: 0.601, train accuracy: 0.791, test loss: 0.664, test accuracy: 0.772, time: 0:16:02\n",
      "Epoch 16 | train loss: 0.579, train accuracy: 0.798, test loss: 0.673, test accuracy: 0.771, time: 0:17:06\n",
      "Epoch 17 | train loss: 0.561, train accuracy: 0.803, test loss: 0.647, test accuracy: 0.779, time: 0:18:12\n",
      "Epoch 18 | train loss: 0.542, train accuracy: 0.810, test loss: 0.634, test accuracy: 0.783, time: 0:19:16\n",
      "Epoch 19 | train loss: 0.512, train accuracy: 0.819, test loss: 0.678, test accuracy: 0.772, time: 0:20:20\n",
      "Epoch 20 | train loss: 0.498, train accuracy: 0.825, test loss: 0.648, test accuracy: 0.783, time: 0:21:24\n",
      "Epoch 21 | train loss: 0.485, train accuracy: 0.828, test loss: 0.637, test accuracy: 0.789, time: 0:22:29\n",
      "Epoch 22 | train loss: 0.464, train accuracy: 0.837, test loss: 0.647, test accuracy: 0.788, time: 0:23:39\n",
      "Epoch 23 | train loss: 0.449, train accuracy: 0.842, test loss: 0.641, test accuracy: 0.796, time: 0:26:51\n",
      "Epoch 24 | train loss: 0.434, train accuracy: 0.848, test loss: 0.663, test accuracy: 0.786, time: 0:29:00\n",
      "Epoch 25 | train loss: 0.419, train accuracy: 0.853, test loss: 0.656, test accuracy: 0.788, time: 0:30:14\n",
      "Epoch 26 | train loss: 0.404, train accuracy: 0.857, test loss: 0.678, test accuracy: 0.788, time: 0:31:19\n",
      "Epoch 27 | train loss: 0.394, train accuracy: 0.860, test loss: 0.649, test accuracy: 0.797, time: 0:32:24\n",
      "Epoch 28 | train loss: 0.382, train accuracy: 0.867, test loss: 0.663, test accuracy: 0.795, time: 0:33:31\n",
      "Epoch 29 | train loss: 0.372, train accuracy: 0.869, test loss: 0.660, test accuracy: 0.792, time: 0:34:40\n",
      "Epoch 30 | train loss: 0.361, train accuracy: 0.873, test loss: 0.682, test accuracy: 0.796, time: 0:35:44\n",
      "Epoch 31 | train loss: 0.351, train accuracy: 0.875, test loss: 0.677, test accuracy: 0.794, time: 0:37:01\n",
      "Epoch 32 | train loss: 0.343, train accuracy: 0.879, test loss: 0.664, test accuracy: 0.796, time: 0:38:07\n",
      "Epoch 33 | train loss: 0.327, train accuracy: 0.884, test loss: 0.691, test accuracy: 0.797, time: 0:39:16\n",
      "Epoch 34 | train loss: 0.320, train accuracy: 0.886, test loss: 0.703, test accuracy: 0.791, time: 0:40:22\n",
      "Epoch 35 | train loss: 0.313, train accuracy: 0.889, test loss: 0.680, test accuracy: 0.800, time: 0:41:30\n",
      "Epoch 36 | train loss: 0.303, train accuracy: 0.893, test loss: 0.690, test accuracy: 0.800, time: 0:42:36\n",
      "Epoch 37 | train loss: 0.289, train accuracy: 0.897, test loss: 0.683, test accuracy: 0.799, time: 0:43:41\n",
      "Epoch 38 | train loss: 0.287, train accuracy: 0.897, test loss: 0.708, test accuracy: 0.794, time: 0:44:50\n",
      "Epoch 39 | train loss: 0.276, train accuracy: 0.903, test loss: 0.697, test accuracy: 0.798, time: 0:45:56\n",
      "Epoch 40 | train loss: 0.272, train accuracy: 0.904, test loss: 0.710, test accuracy: 0.800, time: 0:47:02\n",
      "Epoch 41 | train loss: 0.263, train accuracy: 0.906, test loss: 0.754, test accuracy: 0.795, time: 0:48:09\n",
      "Epoch 42 | train loss: 0.263, train accuracy: 0.907, test loss: 0.722, test accuracy: 0.803, time: 0:49:22\n",
      "Epoch 43 | train loss: 0.250, train accuracy: 0.911, test loss: 0.750, test accuracy: 0.800, time: 0:50:27\n",
      "Epoch 44 | train loss: 0.244, train accuracy: 0.915, test loss: 0.734, test accuracy: 0.803, time: 0:51:32\n",
      "Epoch 45 | train loss: 0.239, train accuracy: 0.915, test loss: 0.743, test accuracy: 0.803, time: 0:52:40\n",
      "Epoch 46 | train loss: 0.233, train accuracy: 0.918, test loss: 0.761, test accuracy: 0.797, time: 0:53:46\n",
      "Epoch 47 | train loss: 0.224, train accuracy: 0.921, test loss: 0.775, test accuracy: 0.800, time: 0:54:51\n",
      "Epoch 48 | train loss: 0.225, train accuracy: 0.920, test loss: 0.778, test accuracy: 0.800, time: 0:55:58\n",
      "Epoch 49 | train loss: 0.220, train accuracy: 0.921, test loss: 0.745, test accuracy: 0.801, time: 0:57:08\n",
      "Epoch 50 | train loss: 0.217, train accuracy: 0.923, test loss: 0.773, test accuracy: 0.803, time: 0:58:12\n"
     ]
    }
   ],
   "source": [
    "# POINTS: 2\n",
    "\n",
    "cnn_strides = nn.Sequential(\n",
    "    # YOUR CODE HERE\n",
    "    # raise NotImplementedError()\n",
    "    nn.Conv2d(in_channels=3, out_channels=64, kernel_size=3, stride=2, padding=1),\n",
    "    nn.ReLU(),\n",
    "    nn.Conv2d(in_channels=64, out_channels=128, kernel_size=3, stride=2, padding=1),\n",
    "    nn.ReLU(),\n",
    "    nn.Conv2d(in_channels=128, out_channels=256, kernel_size=3, stride=2, padding=1),\n",
    "    nn.ReLU(),\n",
    "    nn.Flatten(),\n",
    "    nn.Linear(in_features=256*4*4, out_features=512),  # Adjust based on input size and pooling\n",
    "    nn.ReLU(),\n",
    "    nn.Linear(in_features=512, out_features=10)\n",
    ")\n",
    "if USE_GPU:\n",
    "    cnn_strides.cuda()\n",
    "\n",
    "train_model(\n",
    "    model=cnn_strides,\n",
    "    criterion=nn.CrossEntropyLoss(),\n",
    "    opt=optim.Adam(cnn_strides.parameters(), lr=5e-4),\n",
    "    logdir='cnn_strides',\n",
    "    train_loader=train_loader,\n",
    "    test_loader=test_loader\n",
    ")"
   ]
  },
  {
   "cell_type": "markdown",
   "metadata": {
    "deletable": false,
    "editable": false,
    "nbgrader": {
     "cell_type": "markdown",
     "checksum": "fb27ebaacf2db8e350735285db940944",
     "grade": false,
     "grade_id": "cell-cbb6e2eeb2dcc66e",
     "locked": true,
     "schema_version": 3,
     "solution": false,
     "task": false
    }
   },
   "source": [
    "What differences do you notice when training this new network?\n",
    "What is a clear advantage of using strides?"
   ]
  },
  {
   "cell_type": "markdown",
   "metadata": {
    "deletable": false,
    "nbgrader": {
     "cell_type": "markdown",
     "checksum": "4252bf0c44f951d77c444af2ef1162f5",
     "grade": true,
     "grade_id": "cell-12ee310e8234b8f8",
     "locked": false,
     "points": 1,
     "schema_version": 3,
     "solution": true,
     "task": false
    }
   },
   "source": [
    "*POINTS: 1*\n",
    "\n",
    "YOUR ANSWER HERE\n",
    "\n",
    "Using strides can speed up training and reduce memory usage, but careful design is needed to maintain performance."
   ]
  },
  {
   "cell_type": "markdown",
   "metadata": {
    "deletable": false,
    "editable": false,
    "nbgrader": {
     "cell_type": "markdown",
     "checksum": "10c6a5679d00652a999570b133d4f792",
     "grade": false,
     "grade_id": "cell-bc32808a463893fd",
     "locked": true,
     "schema_version": 3,
     "solution": false,
     "task": false
    }
   },
   "source": [
    "## Global Pooling\n",
    "\n",
    "The above network ends in a `Flatten` layer followed by a `Linear` layer, in which the number of weights depends on the input size. This means that testing can only be performed on the exact same image size. Several architectures employ a (spatial) **global average pooling layer** to produce a vector of fixed size describing the whole image.\n",
    "\n",
    "Implement the forward pass of such a layer below. The input `x` has size `[batch_size, channels, height, width]`. The mean must be computed across the last two dimensions, such that the result `pooled` has a size of `[batch_size, channels]`. Note, that you cannot use numpy for this as PyTorch is not able to backpropagate through numpy functions. There are however corresponding PyTorch functions for almost all numpy functions.\n",
    "\n",
    "This layer can now replace the flattening operation from the previous network. However, the units before the average pooling need to have a large enough receptive field, otherwise the model will not work well. Therefore, compared with the previous model, remove the `Flatten` layer and instead add a third Conv-BatchNorm-ReLU combination. Then add `GlobalAvgPool2d` and a final `Linear` layer which returns $10$ values per sample instead of $64$.\n",
    "\n",
    "Train it and see if it reaches similar accuracy to the previous one."
   ]
  },
  {
   "cell_type": "code",
   "execution_count": 8,
   "metadata": {
    "deletable": false,
    "nbgrader": {
     "cell_type": "code",
     "checksum": "35eb344df1aa58334ad9b51d0b7bf7f4",
     "grade": true,
     "grade_id": "cell-384e1eaafbd3f3b6",
     "locked": false,
     "points": 4,
     "schema_version": 3,
     "solution": true,
     "task": false
    }
   },
   "outputs": [
    {
     "name": "stdout",
     "output_type": "stream",
     "text": [
      "Epoch 1 | train loss: 1.915, train accuracy: 0.277, test loss: 1.730, test accuracy: 0.346, time: 0:02:42\n",
      "Epoch 2 | train loss: 1.735, train accuracy: 0.347, test loss: 1.760, test accuracy: 0.344, time: 0:05:29\n",
      "Epoch 3 | train loss: 1.656, train accuracy: 0.387, test loss: 1.656, test accuracy: 0.382, time: 0:08:24\n",
      "Epoch 4 | train loss: 1.579, train accuracy: 0.421, test loss: 1.523, test accuracy: 0.449, time: 0:11:25\n",
      "Epoch 5 | train loss: 1.515, train accuracy: 0.453, test loss: 1.491, test accuracy: 0.456, time: 0:14:24\n",
      "Epoch 6 | train loss: 1.466, train accuracy: 0.472, test loss: 1.429, test accuracy: 0.484, time: 0:17:23\n",
      "Epoch 7 | train loss: 1.425, train accuracy: 0.485, test loss: 1.408, test accuracy: 0.495, time: 0:20:22\n",
      "Epoch 8 | train loss: 1.385, train accuracy: 0.502, test loss: 1.388, test accuracy: 0.505, time: 0:23:18\n",
      "Epoch 9 | train loss: 1.348, train accuracy: 0.517, test loss: 1.328, test accuracy: 0.522, time: 0:26:09\n",
      "Epoch 10 | train loss: 1.319, train accuracy: 0.526, test loss: 1.321, test accuracy: 0.535, time: 0:29:06\n",
      "Epoch 11 | train loss: 1.286, train accuracy: 0.541, test loss: 1.267, test accuracy: 0.549, time: 0:32:03\n",
      "Epoch 12 | train loss: 1.263, train accuracy: 0.551, test loss: 1.262, test accuracy: 0.550, time: 0:35:01\n",
      "Epoch 13 | train loss: 1.243, train accuracy: 0.559, test loss: 1.251, test accuracy: 0.550, time: 0:37:59\n",
      "Epoch 14 | train loss: 1.223, train accuracy: 0.566, test loss: 1.227, test accuracy: 0.566, time: 0:41:00\n",
      "Epoch 15 | train loss: 1.211, train accuracy: 0.569, test loss: 1.223, test accuracy: 0.564, time: 0:44:00\n",
      "Epoch 16 | train loss: 1.195, train accuracy: 0.575, test loss: 1.194, test accuracy: 0.573, time: 0:47:04\n",
      "Epoch 17 | train loss: 1.181, train accuracy: 0.584, test loss: 1.182, test accuracy: 0.585, time: 0:50:04\n",
      "Epoch 18 | train loss: 1.170, train accuracy: 0.588, test loss: 1.188, test accuracy: 0.576, time: 0:53:02\n",
      "Epoch 19 | train loss: 1.155, train accuracy: 0.591, test loss: 1.165, test accuracy: 0.598, time: 0:56:08\n",
      "Epoch 20 | train loss: 1.140, train accuracy: 0.598, test loss: 1.140, test accuracy: 0.603, time: 0:59:12\n",
      "Epoch 21 | train loss: 1.128, train accuracy: 0.604, test loss: 1.144, test accuracy: 0.599, time: 1:02:20\n",
      "Epoch 22 | train loss: 1.122, train accuracy: 0.608, test loss: 1.140, test accuracy: 0.595, time: 1:05:23\n",
      "Epoch 23 | train loss: 1.110, train accuracy: 0.611, test loss: 1.111, test accuracy: 0.615, time: 1:08:28\n",
      "Epoch 24 | train loss: 1.099, train accuracy: 0.613, test loss: 1.087, test accuracy: 0.619, time: 1:11:22\n",
      "Epoch 25 | train loss: 1.086, train accuracy: 0.618, test loss: 1.089, test accuracy: 0.619, time: 1:14:21\n",
      "Epoch 26 | train loss: 1.076, train accuracy: 0.622, test loss: 1.082, test accuracy: 0.620, time: 1:17:18\n",
      "Epoch 27 | train loss: 1.069, train accuracy: 0.625, test loss: 1.090, test accuracy: 0.620, time: 1:20:18\n",
      "Epoch 28 | train loss: 1.061, train accuracy: 0.629, test loss: 1.074, test accuracy: 0.622, time: 1:23:17\n",
      "Epoch 29 | train loss: 1.049, train accuracy: 0.632, test loss: 1.095, test accuracy: 0.620, time: 1:26:10\n",
      "Epoch 30 | train loss: 1.044, train accuracy: 0.635, test loss: 1.042, test accuracy: 0.635, time: 1:29:05\n",
      "Epoch 31 | train loss: 1.036, train accuracy: 0.638, test loss: 1.029, test accuracy: 0.641, time: 1:31:59\n",
      "Epoch 32 | train loss: 1.018, train accuracy: 0.646, test loss: 1.025, test accuracy: 0.639, time: 1:34:54\n",
      "Epoch 33 | train loss: 1.019, train accuracy: 0.643, test loss: 1.030, test accuracy: 0.641, time: 1:37:53\n",
      "Epoch 34 | train loss: 1.006, train accuracy: 0.649, test loss: 1.023, test accuracy: 0.642, time: 1:40:52\n",
      "Epoch 35 | train loss: 0.994, train accuracy: 0.654, test loss: 1.008, test accuracy: 0.651, time: 1:43:51\n",
      "Epoch 36 | train loss: 0.990, train accuracy: 0.655, test loss: 1.009, test accuracy: 0.649, time: 1:46:42\n",
      "Epoch 37 | train loss: 0.977, train accuracy: 0.660, test loss: 1.000, test accuracy: 0.651, time: 1:49:33\n",
      "Epoch 38 | train loss: 0.977, train accuracy: 0.661, test loss: 0.994, test accuracy: 0.655, time: 1:52:25\n",
      "Epoch 39 | train loss: 0.961, train accuracy: 0.667, test loss: 1.005, test accuracy: 0.653, time: 1:55:20\n",
      "Epoch 40 | train loss: 0.956, train accuracy: 0.666, test loss: 0.975, test accuracy: 0.658, time: 1:58:16\n",
      "Epoch 41 | train loss: 0.954, train accuracy: 0.669, test loss: 0.999, test accuracy: 0.655, time: 2:01:17\n",
      "Epoch 42 | train loss: 0.943, train accuracy: 0.672, test loss: 0.961, test accuracy: 0.664, time: 2:04:12\n",
      "Epoch 43 | train loss: 0.938, train accuracy: 0.675, test loss: 0.959, test accuracy: 0.665, time: 2:07:12\n",
      "Epoch 44 | train loss: 0.927, train accuracy: 0.676, test loss: 0.933, test accuracy: 0.672, time: 2:10:12\n",
      "Epoch 45 | train loss: 0.921, train accuracy: 0.679, test loss: 0.947, test accuracy: 0.670, time: 2:13:19\n",
      "Epoch 46 | train loss: 0.918, train accuracy: 0.681, test loss: 0.944, test accuracy: 0.675, time: 2:16:21\n",
      "Epoch 47 | train loss: 0.913, train accuracy: 0.685, test loss: 0.934, test accuracy: 0.677, time: 2:19:21\n",
      "Epoch 48 | train loss: 0.902, train accuracy: 0.688, test loss: 0.914, test accuracy: 0.688, time: 2:22:17\n",
      "Epoch 49 | train loss: 0.901, train accuracy: 0.688, test loss: 0.924, test accuracy: 0.676, time: 2:25:09\n",
      "Epoch 50 | train loss: 0.889, train accuracy: 0.690, test loss: 0.916, test accuracy: 0.685, time: 2:28:06\n"
     ]
    }
   ],
   "source": [
    "# POINTS: 4\n",
    "\n",
    "class GlobalAvgPool2d(torch.nn.Module):\n",
    "    def __init__(self):\n",
    "        super().__init__()\n",
    "\n",
    "    def forward(self, x):\n",
    "        # YOUR CODE HERE\n",
    "        # raise NotImplementedError()\n",
    "        pooled = torch.mean(x, dim=[2, 3])\n",
    "        return pooled\n",
    "\n",
    "\n",
    "cnn_global_pool = nn.Sequential(\n",
    "    # YOUR CODE HERE\n",
    "    # raise NotImplementedError()\n",
    "    nn.Conv2d(in_channels=3, out_channels=64, kernel_size=3, padding=1),\n",
    "    nn.ReLU(),\n",
    "    nn.Conv2d(in_channels=64, out_channels=128, kernel_size=3, padding=1),\n",
    "    nn.ReLU(),\n",
    "    nn.Conv2d(in_channels=128, out_channels=256, kernel_size=3, padding=1),\n",
    "    nn.ReLU(),\n",
    "    GlobalAvgPool2d(),  # Apply Global Average Pooling\n",
    "    nn.Linear(in_features=256, out_features=10)\n",
    ")\n",
    "if USE_GPU:\n",
    "    cnn_global_pool.cuda()\n",
    "\n",
    "train_model(\n",
    "    model=cnn_global_pool,\n",
    "    criterion=nn.CrossEntropyLoss(),\n",
    "    opt=optim.Adam(cnn_global_pool.parameters(), lr=5e-4),\n",
    "    logdir='cnn_global_pool',\n",
    "    train_loader=train_loader,\n",
    "    test_loader=test_loader\n",
    ")"
   ]
  },
  {
   "cell_type": "markdown",
   "metadata": {
    "deletable": false,
    "editable": false,
    "nbgrader": {
     "cell_type": "markdown",
     "checksum": "ee6de3f7f259be2d205f59714faefb0a",
     "grade": false,
     "grade_id": "cell-527e589864d3a660",
     "locked": true,
     "schema_version": 3,
     "solution": false,
     "task": false
    }
   },
   "source": [
    "Which network has more parameters, this or the previous one?\n",
    "\n",
    "What is the size of the receptive field of the units in the layer directly before the global average pooling? (Remember: the receptive field of a particular unit (neuron) is the area of the *input image* that can influence the activation of this given unit)."
   ]
  },
  {
   "cell_type": "markdown",
   "metadata": {
    "deletable": false,
    "nbgrader": {
     "cell_type": "markdown",
     "checksum": "d83ca3fe01cd1485eea9363077f637aa",
     "grade": true,
     "grade_id": "cell-a36f95947bd5ba86",
     "locked": false,
     "points": 2,
     "schema_version": 3,
     "solution": true,
     "task": false
    }
   },
   "source": [
    "*POINTS: 2*\n",
    "\n",
    "YOUR ANSWER HERE\n",
    "\n",
    "The previous one has more parameters, and the size of the receptive field is 7 × 7"
   ]
  },
  {
   "cell_type": "markdown",
   "metadata": {
    "deletable": false,
    "editable": false,
    "nbgrader": {
     "cell_type": "markdown",
     "checksum": "51b04c4d2bd7fd3084d24223fa69f427",
     "grade": false,
     "grade_id": "cell-cfc670e8ea147092",
     "locked": true,
     "schema_version": 3,
     "solution": false,
     "task": false
    }
   },
   "source": [
    "## Residual Networks\n",
    "\n",
    "ResNet was introduced by [He et al. in 2016](https://www.cv-foundation.org/openaccess/content_cvpr_2016/papers/He_Deep_Residual_Learning_CVPR_2016_paper.pdf) and is still popular today.\n",
    "\n",
    "It consists of blocks like the following:\n",
    "\n",
    "![ResNet Block](resnet_block.png)\n",
    "\n",
    "Each of these so-called *residual blocks* only have to predict a *residual* (in plain words: the \"rest\", the \"leftover\") that will be added on top of its input.\n",
    "In other words, the block outputs how much each feature needs to be changed in order to enhance the representation compared to the previous block.\n",
    "\n",
    "There are several ways to combine residual blocks into *residual networks* (ResNets). In the following, we consider ResNet-v1, as used for the CIFAR-10 benchmark in the original ResNet paper (it is simpler compared to the full model that they used for the much larger ImageNet benchmark).\n",
    "\n",
    "Section 4.2. of the paper describes this architecture as follows: \"*The first layer is 3×3 convolutions. Then we use a stack of 6n layers with 3×3 convolutions on the feature maps of sizes {32, 16, 8} respectively, with 2n layers for each feature map size. The numbers of filters are {16, 32, 64} respectively. The subsampling is performed by convolutions with a stride of 2. The network ends with a global average pooling, a 10-way fully-connected layer, and softmax. [...] When shortcut connections are used, they are connected to the pairs of 3×3 layers (totally 3n shortcuts). On this dataset we use identity shortcuts in all cases.*\"\n",
    "\n",
    "Further, they use L2 regularization for training (a standard tool to combat overfitting). This penalizes weights with large magnitude by adding an additional term to the cost function, besides the cross-entropy. The overall function to optimize becomes:\n",
    "\n",
    "$$\n",
    "\\mathcal{L}_{CE} + \\frac{\\lambda}{2} \\sum_{w\\in\\text{weights}} w^2,\n",
    "$$\n",
    "\n",
    "and in this paper $\\lambda=10^{-4}$.\n",
    "\n",
    "Use the explanation above to complete the `layers`-list in the `ResNet`-class below. Note, that the first layer is already added and remember that the final softmax has to be omitted. The `ResNetBlock` already implements the above figure, i.e. contains $2$ convolutions.\n",
    "\n",
    "Weight decay is already added by setting the corresponding attribute of the opimizer."
   ]
  },
  {
   "cell_type": "code",
   "execution_count": 9,
   "metadata": {
    "deletable": false,
    "nbgrader": {
     "cell_type": "code",
     "checksum": "9c857feab77578ca1b11a6a8d8940e16",
     "grade": true,
     "grade_id": "cell-78512b7752e9d7d2",
     "locked": false,
     "points": 6,
     "schema_version": 3,
     "solution": true,
     "task": false
    }
   },
   "outputs": [],
   "source": [
    "# POINTS: 6\n",
    "\n",
    "class ResNetBlock(torch.nn.Module):\n",
    "    def __init__(self, in_channels, out_channels, stride=1):\n",
    "        super().__init__()\n",
    "        self.f = nn.Sequential(\n",
    "            nn.Conv2d(in_channels, out_channels, kernel_size=3, stride=stride, padding=1, bias=False),\n",
    "            nn.BatchNorm2d(out_channels),\n",
    "            nn.ReLU(),\n",
    "            nn.Conv2d(out_channels, out_channels, kernel_size=3, padding=1, bias=False),\n",
    "            nn.BatchNorm2d(out_channels)\n",
    "        )\n",
    "        self.activation = nn.ReLU()\n",
    "        # The shortcut connection is just the identity. If feature\n",
    "        # channel counts differ between input and output, zero\n",
    "        # padding is used to match the depths. This is implemented\n",
    "        # by a convolution with the following fixed weight:\n",
    "        self.pad_weight = nn.Parameter(\n",
    "            torch.eye(out_channels, in_channels)[:, :, None, None],\n",
    "            requires_grad=False\n",
    "        )\n",
    "        self.stride = stride\n",
    "\n",
    "    def forward(self, x):\n",
    "        r = self.f(x)\n",
    "        # We apply the padding weight using torch.functional.conv2d\n",
    "        # which allows us to use a custom weight matrix.\n",
    "        x = F.conv2d(x, self.pad_weight, stride=self.stride)\n",
    "        return self.activation(x + r)\n",
    "    \n",
    "\n",
    "class ResNet(torch.nn.Module):\n",
    "    def __init__(self, num_layers=8, in_channels=3, out_features=10):\n",
    "        super().__init__()\n",
    "        if (num_layers - 2) % 6 != 0:\n",
    "            raise ValueError('n_layers should be 6n+2')\n",
    "        n = (num_layers - 2) // 6\n",
    "        \n",
    "        layers = []\n",
    "        \n",
    "        first_layer = nn.Sequential(\n",
    "            nn.Conv2d(in_channels, 16, kernel_size=3, padding=1, bias=False),\n",
    "            nn.BatchNorm2d(16),\n",
    "            nn.ReLU()\n",
    "        )\n",
    "        \n",
    "        layers.append(first_layer)\n",
    "\n",
    "        # YOUR CODE HERE\n",
    "        # raise NotImplementedError()\n",
    "        # Create n blocks of 16 filters\n",
    "        for i in range(n):\n",
    "            layers.append(ResNetBlock(16, 16))\n",
    "        \n",
    "        # Create n blocks of 32 filters with downsampling at the start\n",
    "        layers.append(ResNetBlock(16, 32, stride=2))\n",
    "        for i in range(n-1):\n",
    "            layers.append(ResNetBlock(32, 32))\n",
    "        \n",
    "        # Create n blocks of 64 filters with downsampling at the start\n",
    "        layers.append(ResNetBlock(32, 64, stride=2))\n",
    "        for i in range(n-1):\n",
    "            layers.append(ResNetBlock(64, 64))\n",
    "        \n",
    "        # Global Average Pooling and Fully Connected Layer\n",
    "        layers.append(nn.AdaptiveAvgPool2d((1, 1)))\n",
    "        layers.append(nn.Flatten())\n",
    "        layers.append(nn.Linear(64, out_features))\n",
    "        \n",
    "        self.net = nn.Sequential(*layers)\n",
    "\n",
    "    def forward(self, x):\n",
    "        return self.net(x)"
   ]
  },
  {
   "cell_type": "markdown",
   "metadata": {
    "deletable": false,
    "editable": false,
    "nbgrader": {
     "cell_type": "markdown",
     "checksum": "43566b9d8b66932b9ae455e7ac3795a9",
     "grade": false,
     "grade_id": "cell-ac38cfcbccbc3e34",
     "locked": true,
     "schema_version": 3,
     "solution": false,
     "task": false
    }
   },
   "source": [
    "Train a Resnet with 8 layers on the CIFAR-10 dataset for 50 epochs. As a rough idea, it will take less than 15 minutes with a good GPU, but on a CPU it can take several hours."
   ]
  },
  {
   "cell_type": "code",
   "execution_count": 10,
   "metadata": {
    "deletable": false,
    "editable": false,
    "nbgrader": {
     "cell_type": "code",
     "checksum": "34b787795784e941368bcf5d3681f716",
     "grade": false,
     "grade_id": "cell-e3b3f6d8fa93f028",
     "locked": true,
     "schema_version": 3,
     "solution": false,
     "task": false
    }
   },
   "outputs": [
    {
     "name": "stdout",
     "output_type": "stream",
     "text": [
      "Epoch 1 | train loss: 1.640, train accuracy: 0.407, test loss: 1.435, test accuracy: 0.475, time: 0:01:25\n",
      "Epoch 2 | train loss: 1.305, train accuracy: 0.533, test loss: 1.211, test accuracy: 0.563, time: 0:02:52\n",
      "Epoch 3 | train loss: 1.151, train accuracy: 0.590, test loss: 1.132, test accuracy: 0.585, time: 0:04:14\n",
      "Epoch 4 | train loss: 1.050, train accuracy: 0.628, test loss: 1.073, test accuracy: 0.620, time: 0:05:37\n",
      "Epoch 5 | train loss: 0.983, train accuracy: 0.653, test loss: 0.947, test accuracy: 0.659, time: 0:07:01\n",
      "Epoch 6 | train loss: 0.935, train accuracy: 0.670, test loss: 0.924, test accuracy: 0.675, time: 0:08:22\n",
      "Epoch 7 | train loss: 0.898, train accuracy: 0.683, test loss: 0.891, test accuracy: 0.682, time: 0:09:45\n",
      "Epoch 8 | train loss: 0.865, train accuracy: 0.695, test loss: 0.955, test accuracy: 0.665, time: 0:11:08\n",
      "Epoch 9 | train loss: 0.838, train accuracy: 0.708, test loss: 0.913, test accuracy: 0.677, time: 0:12:35\n",
      "Epoch 10 | train loss: 0.808, train accuracy: 0.716, test loss: 0.821, test accuracy: 0.709, time: 0:13:56\n",
      "Epoch 11 | train loss: 0.790, train accuracy: 0.723, test loss: 0.784, test accuracy: 0.727, time: 0:15:22\n",
      "Epoch 12 | train loss: 0.766, train accuracy: 0.733, test loss: 0.809, test accuracy: 0.719, time: 0:16:47\n",
      "Epoch 13 | train loss: 0.745, train accuracy: 0.740, test loss: 0.781, test accuracy: 0.729, time: 0:18:18\n",
      "Epoch 14 | train loss: 0.729, train accuracy: 0.746, test loss: 0.763, test accuracy: 0.731, time: 0:19:47\n",
      "Epoch 15 | train loss: 0.712, train accuracy: 0.751, test loss: 0.774, test accuracy: 0.732, time: 0:21:14\n",
      "Epoch 16 | train loss: 0.705, train accuracy: 0.755, test loss: 0.801, test accuracy: 0.728, time: 0:22:47\n",
      "Epoch 17 | train loss: 0.683, train accuracy: 0.760, test loss: 0.707, test accuracy: 0.754, time: 0:24:18\n",
      "Epoch 18 | train loss: 0.674, train accuracy: 0.764, test loss: 0.768, test accuracy: 0.739, time: 0:25:44\n",
      "Epoch 19 | train loss: 0.661, train accuracy: 0.771, test loss: 0.688, test accuracy: 0.760, time: 0:27:10\n",
      "Epoch 20 | train loss: 0.652, train accuracy: 0.773, test loss: 0.674, test accuracy: 0.767, time: 0:28:27\n",
      "Epoch 21 | train loss: 0.641, train accuracy: 0.779, test loss: 0.747, test accuracy: 0.747, time: 0:29:43\n",
      "Epoch 22 | train loss: 0.629, train accuracy: 0.783, test loss: 0.660, test accuracy: 0.769, time: 0:30:59\n",
      "Epoch 23 | train loss: 0.625, train accuracy: 0.784, test loss: 0.746, test accuracy: 0.739, time: 0:32:16\n",
      "Epoch 24 | train loss: 0.617, train accuracy: 0.785, test loss: 0.614, test accuracy: 0.785, time: 0:33:32\n",
      "Epoch 25 | train loss: 0.608, train accuracy: 0.791, test loss: 0.619, test accuracy: 0.785, time: 0:34:49\n",
      "Epoch 26 | train loss: 0.597, train accuracy: 0.792, test loss: 0.625, test accuracy: 0.789, time: 0:36:05\n",
      "Epoch 27 | train loss: 0.590, train accuracy: 0.796, test loss: 0.623, test accuracy: 0.785, time: 0:37:21\n",
      "Epoch 28 | train loss: 0.585, train accuracy: 0.797, test loss: 0.645, test accuracy: 0.779, time: 0:38:38\n",
      "Epoch 29 | train loss: 0.572, train accuracy: 0.802, test loss: 0.641, test accuracy: 0.780, time: 0:39:54\n",
      "Epoch 30 | train loss: 0.574, train accuracy: 0.801, test loss: 0.653, test accuracy: 0.772, time: 0:41:10\n",
      "Epoch 31 | train loss: 0.566, train accuracy: 0.805, test loss: 0.658, test accuracy: 0.782, time: 0:42:26\n",
      "Epoch 32 | train loss: 0.559, train accuracy: 0.806, test loss: 0.721, test accuracy: 0.743, time: 0:43:42\n",
      "Epoch 33 | train loss: 0.555, train accuracy: 0.810, test loss: 0.605, test accuracy: 0.791, time: 0:44:58\n",
      "Epoch 34 | train loss: 0.550, train accuracy: 0.810, test loss: 0.623, test accuracy: 0.789, time: 0:46:14\n",
      "Epoch 35 | train loss: 0.549, train accuracy: 0.810, test loss: 0.573, test accuracy: 0.804, time: 0:47:30\n",
      "Epoch 36 | train loss: 0.537, train accuracy: 0.814, test loss: 0.639, test accuracy: 0.783, time: 0:48:46\n",
      "Epoch 37 | train loss: 0.535, train accuracy: 0.816, test loss: 0.631, test accuracy: 0.788, time: 0:50:02\n",
      "Epoch 38 | train loss: 0.528, train accuracy: 0.819, test loss: 0.611, test accuracy: 0.793, time: 0:51:18\n",
      "Epoch 39 | train loss: 0.529, train accuracy: 0.818, test loss: 0.604, test accuracy: 0.793, time: 0:52:34\n",
      "Epoch 40 | train loss: 0.527, train accuracy: 0.820, test loss: 0.589, test accuracy: 0.798, time: 0:53:50\n",
      "Epoch 41 | train loss: 0.518, train accuracy: 0.820, test loss: 0.554, test accuracy: 0.814, time: 0:55:06\n",
      "Epoch 42 | train loss: 0.514, train accuracy: 0.822, test loss: 0.595, test accuracy: 0.798, time: 0:56:22\n",
      "Epoch 43 | train loss: 0.511, train accuracy: 0.824, test loss: 0.605, test accuracy: 0.794, time: 0:57:38\n",
      "Epoch 44 | train loss: 0.510, train accuracy: 0.823, test loss: 0.535, test accuracy: 0.817, time: 0:58:55\n",
      "Epoch 45 | train loss: 0.509, train accuracy: 0.825, test loss: 0.618, test accuracy: 0.795, time: 1:00:11\n",
      "Epoch 46 | train loss: 0.504, train accuracy: 0.825, test loss: 0.545, test accuracy: 0.814, time: 1:01:28\n",
      "Epoch 47 | train loss: 0.497, train accuracy: 0.828, test loss: 0.528, test accuracy: 0.821, time: 1:02:45\n",
      "Epoch 48 | train loss: 0.493, train accuracy: 0.828, test loss: 0.590, test accuracy: 0.797, time: 1:04:01\n",
      "Epoch 49 | train loss: 0.494, train accuracy: 0.829, test loss: 0.595, test accuracy: 0.797, time: 1:05:17\n",
      "Epoch 50 | train loss: 0.487, train accuracy: 0.833, test loss: 0.582, test accuracy: 0.801, time: 1:06:33\n"
     ]
    }
   ],
   "source": [
    "resnet = ResNet()\n",
    "if USE_GPU:\n",
    "    resnet.cuda()\n",
    "\n",
    "train_model(\n",
    "    model=resnet,\n",
    "    criterion=nn.CrossEntropyLoss(),\n",
    "    opt=optim.Adam(resnet.parameters(), lr=5e-4, weight_decay=1e-4),\n",
    "    logdir='resnet',\n",
    "    train_loader=train_loader,\n",
    "    test_loader=test_loader\n",
    ")"
   ]
  },
  {
   "cell_type": "markdown",
   "metadata": {
    "deletable": false,
    "editable": false,
    "nbgrader": {
     "cell_type": "markdown",
     "checksum": "6d30d6ddca7fb16235c3573be47b0266",
     "grade": false,
     "grade_id": "cell-434819020b48d6b4",
     "locked": true,
     "schema_version": 3,
     "solution": false,
     "task": false
    }
   },
   "source": [
    "## Learning Rate Decay\n",
    "\n",
    "Learning rate decay reduces the learning rate as the training progresses. Use the same settings as in the previous experiment, but this time create a `MultiStepLR`-scheduler and decrease the learning rate twice by a factor of 10 each."
   ]
  },
  {
   "cell_type": "code",
   "execution_count": 11,
   "metadata": {
    "deletable": false,
    "nbgrader": {
     "cell_type": "code",
     "checksum": "d3eef0cab948ba25dcc7328a8811b7f4",
     "grade": true,
     "grade_id": "cell-f2042420b7d15963",
     "locked": false,
     "points": 2,
     "schema_version": 3,
     "solution": true
    }
   },
   "outputs": [
    {
     "name": "stdout",
     "output_type": "stream",
     "text": [
      "Epoch 1 | train loss: 1.655, train accuracy: 0.390, test loss: 1.446, test accuracy: 0.456, time: 0:01:22\n",
      "Epoch 2 | train loss: 1.317, train accuracy: 0.526, test loss: 1.215, test accuracy: 0.563, time: 0:02:38\n",
      "Epoch 3 | train loss: 1.155, train accuracy: 0.591, test loss: 1.101, test accuracy: 0.604, time: 0:03:54\n",
      "Epoch 4 | train loss: 1.052, train accuracy: 0.626, test loss: 1.076, test accuracy: 0.619, time: 0:05:10\n",
      "Epoch 5 | train loss: 0.975, train accuracy: 0.655, test loss: 1.022, test accuracy: 0.637, time: 0:06:26\n",
      "Epoch 6 | train loss: 0.916, train accuracy: 0.677, test loss: 1.014, test accuracy: 0.640, time: 0:07:42\n",
      "Epoch 7 | train loss: 0.879, train accuracy: 0.692, test loss: 0.894, test accuracy: 0.678, time: 0:08:58\n",
      "Epoch 8 | train loss: 0.842, train accuracy: 0.706, test loss: 0.924, test accuracy: 0.685, time: 0:10:15\n",
      "Epoch 9 | train loss: 0.808, train accuracy: 0.718, test loss: 0.887, test accuracy: 0.692, time: 0:11:31\n",
      "Epoch 10 | train loss: 0.783, train accuracy: 0.727, test loss: 0.760, test accuracy: 0.737, time: 0:12:48\n",
      "Epoch 11 | train loss: 0.719, train accuracy: 0.751, test loss: 0.698, test accuracy: 0.752, time: 0:14:04\n",
      "Epoch 12 | train loss: 0.706, train accuracy: 0.754, test loss: 0.687, test accuracy: 0.758, time: 0:15:25\n",
      "Epoch 13 | train loss: 0.700, train accuracy: 0.756, test loss: 0.687, test accuracy: 0.759, time: 0:16:41\n",
      "Epoch 14 | train loss: 0.691, train accuracy: 0.759, test loss: 0.683, test accuracy: 0.758, time: 0:17:58\n",
      "Epoch 15 | train loss: 0.691, train accuracy: 0.761, test loss: 0.679, test accuracy: 0.760, time: 0:19:14\n",
      "Epoch 16 | train loss: 0.687, train accuracy: 0.761, test loss: 0.675, test accuracy: 0.762, time: 0:20:30\n",
      "Epoch 17 | train loss: 0.684, train accuracy: 0.761, test loss: 0.672, test accuracy: 0.760, time: 0:21:46\n",
      "Epoch 18 | train loss: 0.680, train accuracy: 0.763, test loss: 0.670, test accuracy: 0.762, time: 0:23:02\n",
      "Epoch 19 | train loss: 0.677, train accuracy: 0.766, test loss: 0.672, test accuracy: 0.762, time: 0:24:18\n",
      "Epoch 20 | train loss: 0.673, train accuracy: 0.767, test loss: 0.676, test accuracy: 0.759, time: 0:25:34\n",
      "Epoch 21 | train loss: 0.668, train accuracy: 0.767, test loss: 0.662, test accuracy: 0.766, time: 0:26:51\n",
      "Epoch 22 | train loss: 0.666, train accuracy: 0.770, test loss: 0.661, test accuracy: 0.766, time: 0:28:07\n",
      "Epoch 23 | train loss: 0.663, train accuracy: 0.770, test loss: 0.661, test accuracy: 0.765, time: 0:29:23\n",
      "Epoch 24 | train loss: 0.665, train accuracy: 0.769, test loss: 0.662, test accuracy: 0.763, time: 0:30:39\n",
      "Epoch 25 | train loss: 0.665, train accuracy: 0.770, test loss: 0.664, test accuracy: 0.765, time: 0:31:55\n",
      "Epoch 26 | train loss: 0.660, train accuracy: 0.771, test loss: 0.660, test accuracy: 0.766, time: 0:33:10\n",
      "Epoch 27 | train loss: 0.663, train accuracy: 0.770, test loss: 0.659, test accuracy: 0.766, time: 0:34:26\n",
      "Epoch 28 | train loss: 0.662, train accuracy: 0.770, test loss: 0.661, test accuracy: 0.767, time: 0:35:42\n",
      "Epoch 29 | train loss: 0.664, train accuracy: 0.771, test loss: 0.659, test accuracy: 0.768, time: 0:36:58\n",
      "Epoch 30 | train loss: 0.664, train accuracy: 0.769, test loss: 0.660, test accuracy: 0.767, time: 0:38:14\n",
      "Epoch 31 | train loss: 0.660, train accuracy: 0.771, test loss: 0.661, test accuracy: 0.766, time: 0:39:30\n",
      "Epoch 32 | train loss: 0.659, train accuracy: 0.772, test loss: 0.660, test accuracy: 0.766, time: 0:40:46\n",
      "Epoch 33 | train loss: 0.661, train accuracy: 0.771, test loss: 0.661, test accuracy: 0.766, time: 0:42:02\n",
      "Epoch 34 | train loss: 0.658, train accuracy: 0.772, test loss: 0.660, test accuracy: 0.768, time: 0:43:18\n",
      "Epoch 35 | train loss: 0.661, train accuracy: 0.772, test loss: 0.658, test accuracy: 0.766, time: 0:44:34\n",
      "Epoch 36 | train loss: 0.662, train accuracy: 0.772, test loss: 0.659, test accuracy: 0.767, time: 0:45:50\n",
      "Epoch 37 | train loss: 0.661, train accuracy: 0.770, test loss: 0.661, test accuracy: 0.766, time: 0:47:06\n",
      "Epoch 38 | train loss: 0.660, train accuracy: 0.769, test loss: 0.659, test accuracy: 0.768, time: 0:48:23\n",
      "Epoch 39 | train loss: 0.659, train accuracy: 0.772, test loss: 0.659, test accuracy: 0.767, time: 0:49:38\n",
      "Epoch 40 | train loss: 0.664, train accuracy: 0.770, test loss: 0.657, test accuracy: 0.767, time: 0:50:54\n",
      "Epoch 41 | train loss: 0.662, train accuracy: 0.769, test loss: 0.660, test accuracy: 0.764, time: 0:52:11\n",
      "Epoch 42 | train loss: 0.662, train accuracy: 0.769, test loss: 0.658, test accuracy: 0.767, time: 0:53:27\n",
      "Epoch 43 | train loss: 0.661, train accuracy: 0.773, test loss: 0.661, test accuracy: 0.765, time: 0:54:43\n",
      "Epoch 44 | train loss: 0.656, train accuracy: 0.772, test loss: 0.661, test accuracy: 0.766, time: 0:55:59\n",
      "Epoch 45 | train loss: 0.660, train accuracy: 0.770, test loss: 0.660, test accuracy: 0.766, time: 0:57:15\n",
      "Epoch 46 | train loss: 0.659, train accuracy: 0.772, test loss: 0.660, test accuracy: 0.766, time: 0:58:31\n",
      "Epoch 47 | train loss: 0.662, train accuracy: 0.771, test loss: 0.658, test accuracy: 0.766, time: 0:59:47\n",
      "Epoch 48 | train loss: 0.657, train accuracy: 0.771, test loss: 0.661, test accuracy: 0.765, time: 1:01:02\n",
      "Epoch 49 | train loss: 0.663, train accuracy: 0.768, test loss: 0.661, test accuracy: 0.766, time: 1:02:18\n",
      "Epoch 50 | train loss: 0.660, train accuracy: 0.771, test loss: 0.660, test accuracy: 0.766, time: 1:03:35\n"
     ]
    }
   ],
   "source": [
    "# POINTS: 2\n",
    "\n",
    "resnet_decay = ResNet()\n",
    "if USE_GPU:\n",
    "    resnet_decay.cuda()\n",
    "\n",
    "# YOUR CODE HERE\n",
    "# raise NotImplementedError()\n",
    "# Define the optimizer\n",
    "opt = optim.Adam(resnet_decay.parameters(), lr=5e-4)\n",
    "\n",
    "# Define the learning rate scheduler\n",
    "sched = optim.lr_scheduler.StepLR(opt, step_size=10, gamma=0.1)\n",
    "\n",
    "train_model(\n",
    "    model=resnet_decay,\n",
    "    criterion=nn.CrossEntropyLoss(),\n",
    "    opt=opt,\n",
    "    logdir='resnet_decay',\n",
    "    train_loader=train_loader,\n",
    "    test_loader=test_loader,\n",
    "    lr_scheduler=sched\n",
    ")"
   ]
  },
  {
   "cell_type": "markdown",
   "metadata": {
    "deletable": false,
    "editable": false,
    "nbgrader": {
     "cell_type": "markdown",
     "checksum": "e34156f290a21658236e3b147ffe4f80",
     "grade": false,
     "grade_id": "cell-2a7fd7a5404ef569",
     "locked": true,
     "schema_version": 3,
     "solution": false,
     "task": false
    }
   },
   "source": [
    "## Positional Encoding\n",
    "\n",
    "After the ResNet, we will now have a look at a more recent architecture, the Vision Transformer by [Dosovitskiy et al., 2020](https://arxiv.org/pdf/2010.11929.pdf).\n",
    "This model subdivides the image into patches and feeds these into a transformer.\n",
    "A CNN knows the spatial relationships between features very well, but a transformer does not.\n",
    "Without any further processing, each patch would become a token and each token would only differ by its contents, but would not differ due to the pixel positions.\n",
    "This is not wanted of course, as the location in images matters.\n",
    "For this reason, we need to add a positional encoding to the tokens, such that e.g. the patch in the top left always receives the same encoding and thus the model is able to gather features using positions.\n",
    "\n",
    "If each token $i$ is represented by $d$ features, that the $j$-th value is defined as\n",
    "\n",
    "$$\n",
    "p_{i,j} = \n",
    "\\begin{cases}\n",
    "\\sin\\left(\\frac{i}{10000^{\\frac{j}{d}}}\\right) & \\; \\text{if } j \\text{ is even}\\\\\n",
    "\\cos\\left(\\frac{i}{10000^{\\frac{j-1}{d}}}\\right) & \\; \\text{if } j \\text{ is odd}\n",
    "\\end{cases}\n",
    "$$\n",
    "\n",
    "To avoid recomputing this expression for every evaluation, we want to precompute it once for some $i$ and $j$.\n",
    "If you implemented this correctly, each row of the image looks different from every other row."
   ]
  },
  {
   "cell_type": "code",
   "execution_count": 12,
   "metadata": {
    "deletable": false,
    "nbgrader": {
     "cell_type": "code",
     "checksum": "d142c079a07af305aec9b13dabf5f64e",
     "grade": true,
     "grade_id": "cell-e442bcc53217f8e5",
     "locked": false,
     "points": 2,
     "schema_version": 3,
     "solution": true,
     "task": false
    }
   },
   "outputs": [
    {
     "data": {
      "image/png": "[encoded data removed]",
      "text/plain": [
       "<Figure size 640x480 with 1 Axes>"
      ]
     },
     "metadata": {},
     "output_type": "display_data"
    }
   ],
   "source": [
    "# POINTS: 2\n",
    "\n",
    "POS_ENC_CACHE_T = 100\n",
    "POS_ENC_CACHE_D = 300\n",
    "pos_enc_cached = torch.zeros(POS_ENC_CACHE_T, POS_ENC_CACHE_D)\n",
    "# YOUR CODE HERE\n",
    "# raise NotImplementedError()\n",
    "# Generate positional encodings\n",
    "# position = torch.arange(0, POS_ENC_CACHE_T, dtype=torch.float).unsqueeze(1)\n",
    "# div_term = torch.exp(torch.arange(0, POS_ENC_CACHE_D, 2).float() * (-np.log(10000.0) / POS_ENC_CACHE_D))\n",
    "\n",
    "# pos_enc_cached[:, 0::2] = torch.sin(position * div_term)\n",
    "# pos_enc_cached[:, 1::2] = torch.cos(position * div_term)\n",
    "position = torch.arange(0, POS_ENC_CACHE_T, dtype=torch.float).unsqueeze(1)\n",
    "div_term = torch.exp(torch.arange(0, POS_ENC_CACHE_D, 2).float() * (-torch.log(torch.tensor(10000.0)) / POS_ENC_CACHE_D))\n",
    "\n",
    "pos_enc_cached[:, 0::2] = torch.sin(position * div_term)\n",
    "pos_enc_cached[:, 1::2] = torch.cos(position * div_term)\n",
    "\n",
    "plt.imshow(pos_enc_cached)\n",
    "plt.show()"
   ]
  },
  {
   "cell_type": "markdown",
   "metadata": {
    "deletable": false,
    "editable": false,
    "nbgrader": {
     "cell_type": "markdown",
     "checksum": "37440a0c51dd2cb6781e0ce6363d720b",
     "grade": false,
     "grade_id": "cell-0015c81d69e75b6e",
     "locked": true,
     "schema_version": 3,
     "solution": false,
     "task": false
    }
   },
   "source": [
    "Why do we use addition instad of concatenation?\n",
    "E.g. instead of 300 image features added to 300 positional features, we coul concatenate 150 image features to 150 positional features."
   ]
  },
  {
   "cell_type": "markdown",
   "metadata": {
    "deletable": false,
    "nbgrader": {
     "cell_type": "markdown",
     "checksum": "a631f5d72ddf6d091de3484d56c71716",
     "grade": true,
     "grade_id": "cell-811bb582df184b94",
     "locked": false,
     "points": 1,
     "schema_version": 3,
     "solution": true,
     "task": false
    }
   },
   "source": [
    "*POINTS: 1*\n",
    "\n",
    "YOUR ANSWER HERE\n",
    "\n",
    "Using addition maintains the same dimensionality and parameter efficiency, simplifying the model design. Concatenation increases dimensionality and complexity, requiring more parameters and architectural adjustments."
   ]
  },
  {
   "cell_type": "markdown",
   "metadata": {
    "deletable": false,
    "editable": false,
    "nbgrader": {
     "cell_type": "markdown",
     "checksum": "536e7ffdeba921fc117b98bb0c77a349",
     "grade": false,
     "grade_id": "cell-7cc85370d7a0e8a1",
     "locked": true,
     "schema_version": 3,
     "solution": false,
     "task": false
    }
   },
   "source": [
    "The forward function of the following module receives tokens as input which have shape $(N \\times T \\times D)$, where $N$ is the batch size, $T$ the number of tokens and $D$ the number of features.\n",
    "Complete the implementation by adding (not concatenating!) the correct part of the precomputed positional embedding to the tokens."
   ]
  },
  {
   "cell_type": "code",
   "execution_count": 13,
   "metadata": {
    "deletable": false,
    "nbgrader": {
     "cell_type": "code",
     "checksum": "99c4a0ec15f88fe9f9c4f15b476805b2",
     "grade": true,
     "grade_id": "cell-d3bb8a2e7c802bc1",
     "locked": false,
     "points": 1,
     "schema_version": 3,
     "solution": true,
     "task": false
    }
   },
   "outputs": [],
   "source": [
    "# POINTS: 1\n",
    "\n",
    "class PositionalEncoding(nn.Module):\n",
    "    def __init__(self):\n",
    "        super().__init__()\n",
    "\n",
    "    def forward(self, tokens):\n",
    "        # YOUR CODE HERE\n",
    "        # raise NotImplementedError()\n",
    "        # max_len, d_model = tokens.size(0), tokens.size(2)\n",
    "        \n",
    "        # pe = torch.zeros(max_len, d_model, device=tokens.device)\n",
    "        # position = torch.arange(0, max_len, dtype=torch.float, device=tokens.device).unsqueeze(1)\n",
    "        # div_term = torch.exp(torch.arange(0, d_model, 2).float().to(tokens.device) * (-torch.log(torch.tensor(10000.0).to(tokens.device)) / d_model))\n",
    "\n",
    "        # pe[:, 0::2] = torch.sin(position * div_term)\n",
    "        # pe[:, 1::2] = torch.cos(position * div_term)\n",
    "\n",
    "        # pe = pe.unsqueeze(1)  # Add batch dimension\n",
    "\n",
    "        # return tokens + pe[:tokens.size(0), :]\n",
    "        batch_size, seq_len, d_model = tokens.size()\n",
    "        \n",
    "        pe = torch.zeros(seq_len, d_model, device=tokens.device)\n",
    "        position = torch.arange(0, seq_len, dtype=torch.float, device=tokens.device).unsqueeze(1)\n",
    "        div_term = torch.exp(torch.arange(0, d_model, 2).float().to(tokens.device) * (-torch.log(torch.tensor(10000.0).to(tokens.device)) / d_model))\n",
    "\n",
    "        pe[:, 0::2] = torch.sin(position * div_term)\n",
    "        pe[:, 1::2] = torch.cos(position * div_term)\n",
    "\n",
    "        pe = pe.unsqueeze(0).expand(batch_size, -1, -1)  # Add batch dimension\n",
    "\n",
    "        return tokens + pe\n",
    "\n",
    "        # seq_len = tokens.size(1)\n",
    "        # return tokens + self.pos_encoding[:seq_len, :]"
   ]
  },
  {
   "cell_type": "code",
   "execution_count": 14,
   "metadata": {
    "deletable": false,
    "editable": false,
    "nbgrader": {
     "cell_type": "code",
     "checksum": "2add0a0c377957d73f620e1c77f7c984",
     "grade": false,
     "grade_id": "cell-9c617c1eac0a89f1",
     "locked": true,
     "schema_version": 3,
     "solution": false,
     "task": false
    }
   },
   "outputs": [],
   "source": [
    "class Embedding(nn.Module):\n",
    "    def __init__(self, im_shape, patch_size, out_dim):\n",
    "        super().__init__()\n",
    "        assert (\n",
    "            im_shape[1] % patch_size[0] == 0\n",
    "        ), \"image height has to be divisible by patch height\"\n",
    "        assert (\n",
    "            im_shape[2] % patch_size[1] == 0\n",
    "        ), \"image width has to be divisible by patch width\"\n",
    "\n",
    "        self.patch_size = patch_size\n",
    "        self.input_dim = int(im_shape[0] * patch_size[0] * patch_size[1])  # size of a flattened patch\n",
    "        self.out_dim = out_dim\n",
    "\n",
    "        self.linear_mapper = nn.Linear(self.input_dim, self.out_dim)  # embeds a patch into a vector\n",
    "        self.cls_token = nn.Parameter(torch.rand(1, self.out_dim))  # encodes the class at the end\n",
    "        self.positional_encoding = PositionalEncoding()\n",
    "\n",
    "    def patchify(self, images):\n",
    "        num_patches = (images.shape[2] // self.patch_size[0]) * (\n",
    "            images.shape[3] // self.patch_size[1]\n",
    "        )\n",
    "\n",
    "        split_H = images.unfold(2, self.patch_size[0], self.patch_size[0])\n",
    "        split_HW = split_H.unfold(3, self.patch_size[1], self.patch_size[1])\n",
    "        reordered = split_HW.permute(0, 2, 3, 1, 4, 5)\n",
    "        reshaped = reordered.reshape(images.size(0), num_patches, -1)\n",
    "        return reshaped\n",
    "\n",
    "    def forward(self, images):\n",
    "        patches = self.patchify(images)  # convert image to patches\n",
    "\n",
    "\n",
    "        tokens = self.linear_mapper(patches)  # embed patches\n",
    "\n",
    "        # add classification token to every sample of the batch\n",
    "        tokens = torch.stack(\n",
    "            [torch.vstack((self.cls_token, tokens[i])) for i in range(len(tokens))]\n",
    "        )\n",
    "\n",
    "        tokens = self.positional_encoding(tokens)\n",
    "\n",
    "        return tokens"
   ]
  },
  {
   "cell_type": "markdown",
   "metadata": {
    "deletable": false,
    "editable": false,
    "nbgrader": {
     "cell_type": "markdown",
     "checksum": "dd3b0ef0b7cef3d3525990457e205bbf",
     "grade": false,
     "grade_id": "cell-8327dc96884ec57b",
     "locked": true,
     "schema_version": 3,
     "solution": false,
     "task": false
    }
   },
   "source": [
    "The function `patchify` takes images of shape $(N \\times C \\times H \\times W)$ as input and outputs tokens of shape $(N \\times T \\times D)$.\n",
    "Using $H_p$ and $W_p$ as height and width of the patches and $H_n$ and $W_n$ as the number of patches across height and width, give the size of each of the tensors in `patchify`.\n",
    "Also, provide formulas to compute $T$ and $D$ given the other terms."
   ]
  },
  {
   "cell_type": "markdown",
   "metadata": {
    "deletable": false,
    "nbgrader": {
     "cell_type": "markdown",
     "checksum": "558f07b55d751980eb205c10d3bd7082",
     "grade": true,
     "grade_id": "cell-40fb9e0d8f7b620e",
     "locked": false,
     "points": 0,
     "schema_version": 3,
     "solution": true,
     "task": false
    }
   },
   "source": [
    "*POINTS: 0*\n",
    "\n",
    "YOUR ANSWER HERE"
   ]
  },
  {
   "cell_type": "code",
   "execution_count": 15,
   "metadata": {
    "deletable": false,
    "editable": false,
    "nbgrader": {
     "cell_type": "code",
     "checksum": "6aa2bfd2c2a5dc7db214a751fc2b8d16",
     "grade": false,
     "grade_id": "cell-ddadd0b085f0d4c0",
     "locked": true,
     "schema_version": 3,
     "solution": false,
     "task": false
    }
   },
   "outputs": [
    {
     "data": {
      "image/png": "[encoded data removed]",
      "text/plain": [
       "<Figure size 500x500 with 2 Axes>"
      ]
     },
     "metadata": {},
     "output_type": "display_data"
    }
   ],
   "source": [
    "embedding = Embedding((3, 32, 32), (4, 4), 128)\n",
    "\n",
    "images, labels = next(iter(train_loader))\n",
    "patch_size = (4, 4)  # (H, W)\n",
    "\n",
    "patches = embedding.patchify(images)\n",
    "patch_grid = make_grid(\n",
    "    patches[0].view(patches.shape[1], images.shape[1], patch_size[0], patch_size[1]),\n",
    "    padding=1,\n",
    "    normalize=True,\n",
    "    pad_value=1,\n",
    "    nrow=images.shape[3] // patch_size[0],\n",
    ").cpu()\n",
    "\n",
    "fig, axarr = plt.subplots(1, 2, figsize=(5, 5))\n",
    "axarr[0].axis(\"off\")\n",
    "axarr[0].set_title(\"Original\")\n",
    "axarr[0].imshow(np.transpose(images[0]/2+0.5, (1, 2, 0)), cmap=\"gray\")\n",
    "axarr[1].axis(\"off\")\n",
    "axarr[1].set_title(\"Patches\")\n",
    "axarr[1].imshow(np.transpose(patch_grid, (1, 2, 0)))\n",
    "plt.show()"
   ]
  },
  {
   "cell_type": "markdown",
   "metadata": {
    "deletable": false,
    "editable": false,
    "nbgrader": {
     "cell_type": "markdown",
     "checksum": "86b89d2f24540be3913f186ba18a227d",
     "grade": false,
     "grade_id": "cell-e3021bbaca7c832d",
     "locked": true,
     "schema_version": 3,
     "solution": false,
     "task": false
    }
   },
   "source": [
    "## Self-Attention\n",
    "\n",
    "Next, we implement the self-attention mechanism, which is defined as\n",
    "$$\n",
    "\\text{softmax}\\left(\\frac{QK^\\top}{\\sqrt{d}}\\right)V,\n",
    "$$\n",
    "where $Q$, $K$ and $V$ are computed by applying a dense layer to the input and $d$ is the number of features.\n",
    "Complete the following module.\n",
    "Note that this module is used for multi-head self-attention, so while the input to has `input_dim` dimensions, the attention is computed using `head_dim` dimensions and the single head outputs `head_dim` dimensions."
   ]
  },
  {
   "cell_type": "code",
   "execution_count": 16,
   "metadata": {
    "deletable": false,
    "nbgrader": {
     "cell_type": "code",
     "checksum": "a7248d640952e14b3e1e63392899e3b5",
     "grade": true,
     "grade_id": "cell-c68110c1d86173ef",
     "locked": false,
     "points": 4,
     "schema_version": 3,
     "solution": true,
     "task": false
    }
   },
   "outputs": [],
   "source": [
    "# POINTS: 4\n",
    "\n",
    "class AttentionHead(nn.Module):\n",
    "    def __init__(self, input_dim, head_dim):\n",
    "        super().__init__()\n",
    "        # YOUR CODE HERE\n",
    "        # raise NotImplementedError()\n",
    "        self.query = nn.Linear(input_dim, head_dim)\n",
    "        self.key = nn.Linear(input_dim, head_dim)\n",
    "        self.value = nn.Linear(input_dim, head_dim)\n",
    "        self.scale = head_dim ** -0.5\n",
    "\n",
    "    def forward(self, tokens):\n",
    "        # YOUR CODE HERE\n",
    "        # raise NotImplementedError()\n",
    "        Q = self.query(tokens)\n",
    "        K = self.key(tokens)\n",
    "        V = self.value(tokens)\n",
    "        \n",
    "        scores = torch.matmul(Q, K.transpose(-2, -1)) * self.scale\n",
    "        attn_weights = F.softmax(scores, dim=-1)\n",
    "        attn_output = torch.matmul(attn_weights, V)\n",
    "        \n",
    "        return attn_output\n",
    "\n",
    "class MultiHeadSelfAttention(nn.Module):\n",
    "    def __init__(self, n_heads, dim):\n",
    "        super().__init__()\n",
    "        if dim % n_heads != 0:\n",
    "            raise ValueError('dim must be divisable by n_heads')\n",
    "        self.n_heads = n_heads\n",
    "        self.dim = dim\n",
    "        self.head_dim = dim // n_heads\n",
    "\n",
    "        self.heads = nn.ModuleList()\n",
    "        for _ in range(self.n_heads):\n",
    "            self.heads.append(AttentionHead(self.dim, self.head_dim))\n",
    "\n",
    "        self.out_projection = nn.Linear(self.n_heads * self.head_dim, self.dim)\n",
    "\n",
    "    def forward(self, tokens):\n",
    "        result = []\n",
    "        for seq in tokens:\n",
    "            result.append(torch.hstack([head(seq) for head in self.heads]))\n",
    "        result = torch.cat([torch.unsqueeze(r, dim=0) for r in result])\n",
    "        return self.out_projection(result)"
   ]
  },
  {
   "cell_type": "markdown",
   "metadata": {
    "deletable": false,
    "editable": false,
    "nbgrader": {
     "cell_type": "markdown",
     "checksum": "ca10a4586a8ced0cf3bb3ffa9f24826e",
     "grade": false,
     "grade_id": "cell-e6d8f813b6d1c7e2",
     "locked": true,
     "schema_version": 3,
     "solution": false,
     "task": false
    }
   },
   "source": [
    "## Transformer\n",
    "\n",
    "We will now construct the transformer using transformer blocks.\n",
    "Each block performs the following steps:\n",
    "$$ \\mathbf z'_\\ell = \\text{MSA}(\\text{LN}(\\mathbf z_{\\ell-1}))+\\mathbf z_{\\ell-1} $$\n",
    "$$ \\mathbf z_\\ell = \\text{MLP}(\\text{LN}(\\mathbf z'_\\ell))+\\mathbf z'_\\ell $$"
   ]
  },
  {
   "cell_type": "code",
   "execution_count": 17,
   "metadata": {
    "deletable": false,
    "nbgrader": {
     "cell_type": "code",
     "checksum": "6f79533f89a4c117c9a682df3caf7e00",
     "grade": true,
     "grade_id": "cell-b2469e3e4ebba160",
     "locked": false,
     "points": 2,
     "schema_version": 3,
     "solution": true,
     "task": false
    }
   },
   "outputs": [],
   "source": [
    "# POINTS: 2\n",
    "\n",
    "class TransformerBlock(nn.Module):\n",
    "    def __init__(self, n_heads, dim, mlp_dim):\n",
    "        super().__init__()\n",
    "\n",
    "        self.n_heads = n_heads\n",
    "        self.dim = dim\n",
    "        self.mlp_dim = mlp_dim\n",
    "\n",
    "        # 1) Layer normalization 1\n",
    "        self.ln1 = nn.LayerNorm(self.dim)\n",
    "\n",
    "        # 2) Multi-head Self-Attention (MSA)\n",
    "        self.msa = MultiHeadSelfAttention(self.n_heads, self.dim)\n",
    "\n",
    "        # 3) Layer normalization 2\n",
    "        self.ln2 = nn.LayerNorm(self.dim)\n",
    "\n",
    "        # 4) MLP\n",
    "        self.mlp = nn.Sequential(\n",
    "            nn.Linear(self.dim, self.mlp_dim),\n",
    "            nn.GELU(),\n",
    "            nn.Linear(self.mlp_dim, self.dim),\n",
    "        )\n",
    "\n",
    "    def forward(self, tokens: torch.Tensor) -> torch.Tensor:\n",
    "        # YOUR CODE HERE\n",
    "        # raise NotImplementedError()\n",
    "        tokens_norm = self.ln1(tokens)\n",
    "        attn_output = self.msa(tokens_norm)\n",
    "        tokens = tokens + attn_output  # Residual connection\n",
    "\n",
    "        # Apply layer normalization and MLP\n",
    "        tokens_norm = self.ln2(tokens)\n",
    "        mlp_output = self.mlp(tokens_norm)\n",
    "        tokens = tokens + mlp_output  # Residual connection\n",
    "\n",
    "        return tokens\n",
    "\n",
    "class Transformer(nn.Module):\n",
    "    def __init__(self, num_layers, n_heads, dim, mlp_dim):\n",
    "        super().__init__()\n",
    "        self.layers = nn.ModuleList()\n",
    "        for _ in range(num_layers):\n",
    "            layer = TransformerBlock(\n",
    "                n_heads=n_heads,\n",
    "                dim=dim,\n",
    "                mlp_dim=mlp_dim,\n",
    "            )\n",
    "            self.layers.append(layer)\n",
    "\n",
    "    def forward(self, tokens: torch.Tensor) -> torch.Tensor:\n",
    "        for layer in self.layers:\n",
    "            tokens = layer(tokens)\n",
    "        return tokens"
   ]
  },
  {
   "cell_type": "markdown",
   "metadata": {
    "deletable": false,
    "editable": false,
    "nbgrader": {
     "cell_type": "markdown",
     "checksum": "fe8961ae9b4709cce88c240eb59d43b7",
     "grade": false,
     "grade_id": "cell-3c7b5b94947934bd",
     "locked": true,
     "schema_version": 3,
     "solution": false,
     "task": false
    }
   },
   "source": [
    "# ViT\n",
    "Now combine everything together:\n",
    "First create the tokens, then apply the transformer, extract the class token and apply the classification MLP to produce the final logits."
   ]
  },
  {
   "cell_type": "code",
   "execution_count": 18,
   "metadata": {
    "deletable": false,
    "nbgrader": {
     "cell_type": "code",
     "checksum": "7c88fc3553661ee9a3cf28a6c9dd9b25",
     "grade": true,
     "grade_id": "cell-c71a046d6f8e4bb8",
     "locked": false,
     "points": 3,
     "schema_version": 3,
     "solution": true,
     "task": false
    }
   },
   "outputs": [],
   "source": [
    "# POINTS: 3\n",
    "\n",
    "class ViT(nn.Module):\n",
    "    def __init__(\n",
    "        self,\n",
    "        im_shape,\n",
    "        patch_size,\n",
    "        dim=8,\n",
    "        num_layers=1,\n",
    "        n_heads=2,\n",
    "        mlp_dim=8,\n",
    "        out_dim=10,\n",
    "    ):\n",
    "        super().__init__()\n",
    "        self.dim = dim\n",
    "        self.mlp_dim = mlp_dim\n",
    "\n",
    "        # 1) Embedding\n",
    "        self.embedding = Embedding(\n",
    "            im_shape=im_shape,\n",
    "            patch_size=patch_size,\n",
    "            out_dim=dim,\n",
    "        )\n",
    "\n",
    "        # 2) Transformer Encoder\n",
    "        self.encoder = Transformer(\n",
    "            num_layers=num_layers,\n",
    "            n_heads=n_heads,\n",
    "            dim=dim,\n",
    "            mlp_dim=mlp_dim,\n",
    "        )\n",
    "\n",
    "        # 3) Classification MLP\n",
    "        self.cls_mlp = nn.Sequential(\n",
    "            nn.LayerNorm(dim),\n",
    "            nn.Linear(dim, out_dim),\n",
    "        )\n",
    "\n",
    "    def forward(self, images):\n",
    "        # embedding -> encoding -> classification\n",
    "        # YOUR CODE HERE\n",
    "        # raise NotImplementedError()\n",
    "        # Step 1: Compute embeddings\n",
    "        tokens = self.embedding(images)\n",
    "        \n",
    "        # Step 2: Encode the tokens with the transformer\n",
    "        encoded_tokens = self.encoder(tokens)\n",
    "        \n",
    "        # Step 3: Classification\n",
    "        # Typically, only the first token (class token) is used for classification\n",
    "        cls_token = encoded_tokens[:, 0]\n",
    "        output = self.cls_mlp(cls_token)\n",
    "        \n",
    "        return output"
   ]
  },
  {
   "cell_type": "markdown",
   "metadata": {
    "deletable": false,
    "editable": false,
    "nbgrader": {
     "cell_type": "markdown",
     "checksum": "d78158fb0edf287f78456395fccdceae",
     "grade": false,
     "grade_id": "cell-aed3f4b8b8748fc2",
     "locked": true,
     "schema_version": 3,
     "solution": false,
     "task": false
    }
   },
   "source": [
    "Create a ViT-model and train it.\n",
    "Do you find hyper-parameters which result in a test accuracy of more than 50%?\n",
    "Note that this can take quite some time on CPU, depending on the parameters you choose.\n",
    "Do fewer epochs to find good parameters."
   ]
  },
  {
   "cell_type": "code",
   "execution_count": 19,
   "metadata": {
    "deletable": false,
    "nbgrader": {
     "cell_type": "code",
     "checksum": "6aa8f6995dc52c4db4a502750f857f40",
     "grade": true,
     "grade_id": "cell-a2df7753bb7cefe8",
     "locked": false,
     "points": 2,
     "schema_version": 3,
     "solution": true,
     "task": false
    }
   },
   "outputs": [
    {
     "name": "stdout",
     "output_type": "stream",
     "text": [
      "Epoch 1 | train loss: 2.147, train accuracy: 0.185, test loss: 1.999, test accuracy: 0.253, time: 0:02:35\n",
      "Epoch 2 | train loss: 1.979, train accuracy: 0.255, test loss: 1.926, test accuracy: 0.287, time: 0:05:10\n",
      "Epoch 3 | train loss: 1.930, train accuracy: 0.279, test loss: 1.879, test accuracy: 0.313, time: 0:07:46\n",
      "Epoch 4 | train loss: 1.895, train accuracy: 0.292, test loss: 1.863, test accuracy: 0.313, time: 0:10:20\n",
      "Epoch 5 | train loss: 1.875, train accuracy: 0.299, test loss: 1.841, test accuracy: 0.324, time: 0:13:00\n",
      "Epoch 6 | train loss: 1.861, train accuracy: 0.305, test loss: 1.832, test accuracy: 0.330, time: 0:15:37\n",
      "Epoch 7 | train loss: 1.850, train accuracy: 0.309, test loss: 1.813, test accuracy: 0.328, time: 0:18:12\n",
      "Epoch 8 | train loss: 1.836, train accuracy: 0.312, test loss: 1.792, test accuracy: 0.335, time: 0:20:46\n",
      "Epoch 9 | train loss: 1.824, train accuracy: 0.318, test loss: 1.792, test accuracy: 0.331, time: 0:23:22\n",
      "Epoch 10 | train loss: 1.812, train accuracy: 0.323, test loss: 1.789, test accuracy: 0.337, time: 0:25:57\n"
     ]
    }
   ],
   "source": [
    "# POINTS: 2\n",
    "\n",
    "# YOUR CODE HERE\n",
    "# raise NotImplementedError()\n",
    "\n",
    "device = torch.device(\"cuda\" if torch.cuda.is_available() else \"cpu\")\n",
    "\n",
    "vit = ViT(    \n",
    "    im_shape=(3, 32, 32),\n",
    "    patch_size=(4, 4)\n",
    ").to(device)\n",
    "\n",
    "# Define loss and optimizer\n",
    "criterion = nn.CrossEntropyLoss()\n",
    "optimizer = optim.Adam(vit.parameters(), lr=0.001)\n",
    "\n",
    "# Train the model\n",
    "num_epochs = 10  # Adjust this value as needed\n",
    "logdir = 'ViT'\n",
    "\n",
    "train_model(\n",
    "    model=vit,\n",
    "    criterion=criterion,\n",
    "    opt=optimizer,\n",
    "    logdir=logdir,\n",
    "    train_loader=train_loader,\n",
    "    test_loader=test_loader,\n",
    "    n_epochs=num_epochs\n",
    ")"
   ]
  },
  {
   "cell_type": "code",
   "execution_count": null,
   "metadata": {},
   "outputs": [],
   "source": []
  }
 ],
 "metadata": {
  "kernelspec": {
   "display_name": "Python 3 (ipykernel)",
   "language": "python",
   "name": "python3"
  },
  "language_info": {
   "codemirror_mode": {
    "name": "ipython",
    "version": 3
   },
   "file_extension": ".py",
   "mimetype": "text/x-python",
   "name": "python",
   "nbconvert_exporter": "python",
   "pygments_lexer": "ipython3",
   "version": "3.11.7"
  }
 },
 "nbformat": 4,
 "nbformat_minor": 4
}
